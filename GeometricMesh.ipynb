{
 "cells": [
  {
   "cell_type": "markdown",
   "metadata": {},
   "source": [
    "## 4. The geometric mesh\n",
    "\n",
    "A geometric mesh TPZGeoMesh is class that stores a vector of geometric nodes (*TPZGeoNode*) and geometric elements (TPZGeoEl) (see [Geometry Documentation](Geometry.ipynb)).\n",
    "\n",
    "Besides implementing access functions for nodes and elements, the *TPZGeoMesh* class implements a method to compute the neighbouring information for all elements\n",
    "\n",
    "\n",
    "* *BuildConnectivity*: Computes the neighbouring information of the geometric elements.\n",
    "\n",
    "The mesh also includes a method that finds an element that contains a given coordinate.\n",
    "\n",
    "* *FindElement*: Returns the element that contains the given point x and it respective point in parametric domain qsi.\n",
    "(It should be noted that FindElement is not 100%. It can break for quarterpoint geometric maps)."
   ]
  },
  {
   "cell_type": "markdown",
   "metadata": {},
   "source": [
    "### 4.1. The geometric node\n",
    "\n",
    "The geometric node stores the 3D coordinates of a node and a unique ID associated with the node. The ID is essential because it will determine the orientation associated with shape functions.\n",
    "\n",
    "The class *TPZCheckGeom* includes a method to verify if the ID’s of the geometric nodes are unique."
   ]
  },
  {
   "cell_type": "markdown",
   "metadata": {},
   "source": [
    "### 4.2 The geometric element\n",
    "\n",
    "A geometric element represents an area in the geometric mesh. It has several attributes within the NeoPZ library:\n",
    "\n",
    "* Compute the map between the master element and deformed configuration\n",
    "* Associate a material id with the area\n",
    "* Keep track of neighbour information\n",
    "* Keep track of son elements and father element\n",
    "* Keep a pointer to a computational element\n",
    "* Keep a counter of the number of interface elements pointing to this geometry (to be deleted)\n",
    "\n",
    "(More details in [Geometry Documentation](Geometry.ipynb))"
   ]
  },
  {
   "cell_type": "markdown",
   "metadata": {},
   "source": [
    "The geometric element class is abstract. Many functionalities are implemented the derived class *TPZGeoElRefless*\n",
    "The methods of the geometric element can be classified as:\n",
    "\n",
    "* Access and initialization methods for the geometric nodes:\n",
    "\n",
    "\n",
    "    1. void GetNodeIndices( TPZVec<int64_t> &nodeindices );\n",
    "    \n",
    "    2. void GetNodeIndices( std::set<int64_t> &nodeindices );\n",
    "    \n",
    "    3. virtual int NNodes() const = 0;\n",
    "        Returns the number of nodes of the element\n",
    "        \n",
    "    4. virtual int NCornerNodes() const = 0;  \n",
    "        Returns the number of corner nodes of the element  \n",
    "    \n",
    "    5. TPZGeoNode* NodePtr(int i) const;\n",
    "        Returns a pointer to the ith node of the element \n",
    "    \n",
    "    6. TPZGeoNode& Node(int i) const;\n",
    "    \n",
    "    7. virtual int64_t NodeIndex(int i) const = 0;\n",
    "        Returns the ith node of the element  \n"
   ]
  },
  {
   "cell_type": "code",
   "execution_count": null,
   "metadata": {},
   "outputs": [],
   "source": []
  }
 ],
 "metadata": {
  "kernelspec": {
   "display_name": "Python 3",
   "language": "python",
   "name": "python3"
  },
  "language_info": {
   "codemirror_mode": {
    "name": "ipython",
    "version": 3
   },
   "file_extension": ".py",
   "mimetype": "text/x-python",
   "name": "python",
   "nbconvert_exporter": "python",
   "pygments_lexer": "ipython3",
   "version": "3.7.4"
  }
 },
 "nbformat": 4,
 "nbformat_minor": 2
}

{
 "cells": [
  {
   "cell_type": "markdown",
   "metadata": {},
   "source": [
    "## 2. Geometry <a id=\"geometry\"></a>\n",
    "\n",
    "The geometry of all elements types implemented on NeoPZ are grouped in pzgeom. The classes associated to this namespace are listed in the following:\n",
    " \n",
    "1. TPZGeoPoint\n",
    "2. TPZGeoLinear\n",
    "3. TPZGeoQuad\n",
    "4. TPZGeoTriangle\n",
    "5. TPZGeoCube\n",
    "6. TPZGeoPrism\n",
    "7. TPZGeoPyramid\n",
    "8. TPZGeoTetrahedra\n",
    "\n",
    "Geometry templates implement the mapping between the master element and actual element. The geometry template also stores the indices of the corner nodes.\n",
    "The primary attribute of the geometric template is to compute the coordinate as a function of the position in master element coordinate (X) and its gradient (GradX). The standard way of computing X and GradX is by using linear interpolation. As such, the geometric template class implements the linear shape functions associated with its topology."
   ]
  },
  {
   "cell_type": "markdown",
   "metadata": {},
   "source": [
    "### 2.1. Fundamental attributes of the Geometric template classes\n",
    "\n",
    "The geometric template classes are responsible for computing X and GradX for a given point in parameter space. As the only data available in the class are the node indexes (through the super class TPZNodeRep), some data needs to be passed as arguments.\n",
    "There are two signatures for X and GradX:\n",
    "* Passing a geometric element pointer as argument. The geometric element is used to access the geometric nodes and their coordinates.\n",
    "* Passing a matrix with the node coordinates as argument. In this case the computation of X is simply  $x(\\xi,\\eta)=\\sum\\phi_i(\\xi,\\eta)x_i$.\n",
    "\n",
    "The type of the input/output data is defined as template argument. As such X and GradX can be called with Fad variables."
   ]
  },
  {
   "cell_type": "code",
   "execution_count": 1,
   "metadata": {},
   "outputs": [],
   "source": [
    "# don't forget to define the parameters\n",
    "# TPZGeoEl gel;\n",
    "# TPZVec<REAL> loc;\n",
    "# TPZVec<REAL> x;\n",
    "# TPZVec<REAL> gradx;\n",
    "# pzgeom::TPZGeoQuad::X(gel, loc, x);\n",
    "# pzgeom::TPZGeoQuad::GradX(gel, loc, gradx);"
   ]
  },
  {
   "cell_type": "code",
   "execution_count": 2,
   "metadata": {},
   "outputs": [],
   "source": [
    "# TPZFMatrix<REAL> nodes;\n",
    "# TPZVec<REAL> loc;\n",
    "# TPZVec<REAL> x;\n",
    "# TPZVec<REAL> gradx;\n",
    "# pzgeom::TPZGeoQuad::X(nodes, loc, x);\n",
    "# pzgeom::TPZGeoQuad::GradX(nodes, loc, gradx);"
   ]
  },
  {
   "cell_type": "markdown",
   "metadata": {},
   "source": [
    "### 2.2 Auxiliary methods integrating the geometric template with geometric elements and geometric mesh\n",
    "\n",
    "#### a. Creating an element along a side\n",
    "\n",
    "When we want to create a geometric element along a side, in NeoPZ the method is *TPZGeoEl $\\ast$CreateBCGeoEl*, in which the geometric template determines the kind of neighbour that needs to be created. "
   ]
  },
  {
   "cell_type": "code",
   "execution_count": 3,
   "metadata": {},
   "outputs": [],
   "source": [
    "# don't forget to define the parameters\n",
    "# TPZGeoEl gel;\n",
    "# int side = 0;\n",
    "# int bc = 0;\n",
    "# TPZGeoEl *ElBC = CreateBCGeoEl(gel, side, bc);"
   ]
  },
  {
   "cell_type": "markdown",
   "metadata": {},
   "source": [
    "#### b. Inserting an example element\n",
    "\n",
    "When we want to create an example element based on the topology, in NeoPZ the method is *InsertExampleElement*, in which the geometric template create the element that should be inserted. \n",
    "This method is used to create a mesh with a collection of all types of geometric elements available in the library."
   ]
  },
  {
   "cell_type": "code",
   "execution_count": 4,
   "metadata": {},
   "outputs": [],
   "source": [
    "# don't forget to define the parameters\n",
    "# TPZGeoMesh gmesh;\n",
    "# int matid = 0;\n",
    "# TPZVec<REAL> lowercorner;\n",
    "# TPZVec<REAL> size;\n",
    "# InsertExampleElement(gmesh, matid, lowercorner, size);"
   ]
  },
  {
   "cell_type": "markdown",
   "metadata": {},
   "source": [
    "#### c. Creating a geometric element\n",
    "\n",
    "When we want to create an element according to the type of the father element, in NeoPZ the method is *TPZGeoEl $\\ast$ CreateGeoElement*."
   ]
  },
  {
   "cell_type": "code",
   "execution_count": 5,
   "metadata": {},
   "outputs": [],
   "source": [
    "# don't forget to define the parameters\n",
    "# TPZGeoMesh gmesh;\n",
    "# MElementType type = EQuadrilateral;\n",
    "# TPZVec<int64_t> nodeindexes;\n",
    "# int matid = 0;\n",
    "# int64_t index = 0;\n",
    "# TPZGeoEl *gel = CreateGeoElement(gmesh, type, nodeindexes, matid, index);"
   ]
  },
  {
   "cell_type": "markdown",
   "metadata": {},
   "source": [
    "#### d. Auxiliary method\n",
    "\n",
    "The method *IsLinearMapping* declares if the map along the side is linear.\n",
    "Also, the method *IsGeoBlendEl* indicates if the mapping is originated from a blend element."
   ]
  }
 ],
 "metadata": {
  "kernelspec": {
   "display_name": "Python 3",
   "language": "python",
   "name": "python3"
  },
  "language_info": {
   "codemirror_mode": {
    "name": "ipython",
    "version": 3
   },
   "file_extension": ".py",
   "mimetype": "text/x-python",
   "name": "python",
   "nbconvert_exporter": "python",
   "pygments_lexer": "ipython3",
   "version": "3.6.8"
  }
 },
 "nbformat": 4,
 "nbformat_minor": 2
}

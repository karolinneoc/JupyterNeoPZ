{
 "cells": [
  {
   "cell_type": "markdown",
   "metadata": {},
   "source": [
    "# Documentation: Topology\n",
    "\n",
    "The topology of all elements implemented on NeoPZ are grouped in pztopology. The classes associated to this namespace are listed in the following:\n",
    "\n",
    " \n",
    "1. TPZPoint\n",
    "2. TPZLine\n",
    "3. TPZQuadrilateral\n",
    "4. TPZTriangle\n",
    "5. TPZCube\n",
    "6. TPZPrism\n",
    "7. TPZPyramid\n",
    "8. TPZTetrahedron\n",
    "\n",
    "Each element (e.g. point, line, quadrilateral, triangle, etc) is considered as the union of its sides. Each side is composed of an open set of points ans has inherent dimension and topology.\n",
    "\n",
    "There is a unique side whose closure is the proper element. By convention this is the highest numbered side.\n",
    "\n",
    "To each element a parameter space can be associated which is commonly known as the master element space.\n",
    "\n",
    "## Main atributions of the class Topology\n",
    "\n",
    "### a. Definition of number of corners, sides, dimension and faces.\n",
    "\n",
    "Side are open sets of points. Within NeoPZ sides are associated with typical finite element topologies: point, line, quadrilateral, triangle, tetrahedra, hexahedra, prism, pyramid.\n",
    "\n",
    "An element is a closed set of points. Each element can be partioned into its sides (an intersection os its sides is empty and their union is the element).\n",
    "\n",
    "Zero dimensional sides are called corners. A corner is both open and closed set."
   ]
  },
  {
   "cell_type": "code",
   "execution_count": 3,
   "metadata": {},
   "outputs": [
    {
     "name": "stderr",
     "output_type": "stream",
     "text": [
      "IncrementalExecutor::executeFunction: symbol '_ZTVN10pztopology16TPZQuadrilateralE' unresolved while linking function '_GLOBAL__sub_I_cling_module_7'!\n",
      "You are probably missing the definition of vtable for pztopology::TPZQuadrilateral\n",
      "Maybe you need to load the corresponding shared library?\n",
      "IncrementalExecutor::executeFunction: symbol '_ZTTN10pztopology16TPZQuadrilateralE' unresolved while linking function '_GLOBAL__sub_I_cling_module_7'!\n",
      "You are probably missing the definition of VTT for pztopology::TPZQuadrilateral\n",
      "Maybe you need to load the corresponding shared library?\n"
     ]
    },
    {
     "name": "stdout",
     "output_type": "stream",
     "text": [
      "4\n",
      "9\n",
      "2\n",
      "4\n"
     ]
    }
   ],
   "source": [
    "// Make sure to change '/usr/local/' according to the installation in your computer\n",
    "#pragma cling add_include_path(\"/usr/local/pzlib/include\")\n",
    "#pragma cling add_include_path(\"/usr/local/pzlib/include/Topology\")\n",
    "#pragma cling add_include_path(\"/usr/local/pzlib/include/Matrix\")\n",
    "#pragma cling add_include_path(\"/usr/local/pzlib/include/Util\")\n",
    "#pragma cling add_include_path(\"/usr/local/pzlib/include/Common\")\n",
    "#pragma cling add_include_path(\"/usr/local/pzlib/include/Save\")\n",
    "#pragma cling add_include_path(\"/usr/local/pzlib/include/Integral\")\n",
    "#pragma cling add_include_path(\"/usr/local/pzlib/include/LinearSolver\")\n",
    "#pragma cling add_include_path(\"/usr/local/pzlib/include/PerfUtil\")\n",
    "\n",
    "#pragma cling add_library_path(\"/usr/local/lib/\")\n",
    "\n",
    "//#pragma cling load(\"libpz.so\")\n",
    "\n",
    "\n",
    "#include <iostream>\n",
    "\n",
    "#include \"pzvec.h\"\n",
    "//#include \"tpzintpoints.h\"\n",
    "//#include \"pzquad.h\"\n",
    "#include \"tpzquadrilateral.h\"\n",
    "\n",
    "TPZVec<REAL> blob;\n",
    "blob.resize(3);\n",
    "blob[0] = 10.;\n",
    "std::cout << blob[0] << std::endl;\n",
    "\n",
    "// Link error to be solved:\n",
    "pztopology::TPZQuadrilateral quad;\n",
    "std::cout << quad.NCornerNodes << std::endl;\n",
    "std::cout << quad.NSides << std::endl;\n",
    "std::cout << quad.Dimension << std::endl;\n",
    "std::cout << quad.NFaces << std::endl;"
   ]
  },
  {
   "cell_type": "markdown",
   "metadata": {},
   "source": [
    "### b. Definition of the dimension of each side and associated corner nodes.\n",
    "\n",
    "|    Topology   | Dimension | NCornerNodes |\n",
    "|:-------------:|:---------:|:------------:|\n",
    "|     Point     |     0     |       1      |\n",
    "|      Line     |     1     |       2      |\n",
    "|    Triangle   |     2     |       3      |\n",
    "| Quadrilateral |     2     |       4      |\n",
    "|   Tetrahedra  |     3     |       4      |\n",
    "|   Hexahedra   |     3     |       8      |\n",
    "|     Prism     |     3     |       6      |\n",
    "|    Pyramid    |     3     |       5      |"
   ]
  },
  {
   "cell_type": "code",
   "execution_count": 2,
   "metadata": {},
   "outputs": [
    {
     "name": "stderr",
     "output_type": "stream",
     "text": [
      "IncrementalExecutor::executeFunction: symbol '_ZN10pztopology16TPZQuadrilateral13SideDimensionEi' unresolved while linking function '_GLOBAL__sub_I_cling_module_8'!\n",
      "You are probably missing the definition of pztopology::TPZQuadrilateral::SideDimension(int)\n",
      "Maybe you need to load the corresponding shared library?\n",
      "IncrementalExecutor::executeFunction: symbol '_ZN10pztopology16TPZQuadrilateral10NSideNodesEi' unresolved while linking function '_GLOBAL__sub_I_cling_module_8'!\n",
      "You are probably missing the definition of pztopology::TPZQuadrilateral::NSideNodes(int)\n",
      "Maybe you need to load the corresponding shared library?\n"
     ]
    },
    {
     "name": "stdout",
     "output_type": "stream",
     "text": [
      "The number of associated corner nodes of the side 2 is 0\n"
     ]
    }
   ],
   "source": [
    "int side = 2;\n",
    "int dimside = quad.SideDimension(side);\n",
    "std::cout << \"The dimension of the side \" << side << \" is\" << dimside << std::endl;\n",
    "int nsidenodes = quad.NSideNodes(side);\n",
    "std::cout << \"The number of associated corner nodes of the side \" << side << \" is \" << nsidenodes << std::endl;"
   ]
  },
  {
   "cell_type": "markdown",
   "metadata": {},
   "source": [
    "### c. Definition of the parametric transformation between sides (note that this function returns a TPZTransform).\n",
    "\n",
    "Each element is partitioned by its sides. The closure of a side includes a number os sides and forms an element topology. This imples that each point on the boundary of a side belongs to a side of lower dimension.\n",
    "\n",
    "A point in the parametric domain of a side can be transformed to a point in the parametric domain of the element. The transformation is a homogeneous transformation (i.e. a linear transformation followed by a translation).\n",
    "\n",
    "These functionalities are implemented by the method SideToSideTransform. It is assumed that sidefrom belongs to sideto.\n",
    "\n",
    "If sidefrom corresponds to the volume of the element, the method will return a transformation that is a projection"
   ]
  },
  {
   "cell_type": "code",
   "execution_count": 3,
   "metadata": {},
   "outputs": [],
   "source": [
    "# int sidefrom = 2;\n",
    "# int sideto = 1;\n",
    "# TPZTransform<> tr = quad.SideToSideTransform(sidefrom, sideto);"
   ]
  },
  {
   "cell_type": "markdown",
   "metadata": {},
   "source": [
    "### d. Creation of integration rules associated to each side (note that the integration rule is a pointer to the TPZIntPoints type)."
   ]
  },
  {
   "cell_type": "code",
   "execution_count": 4,
   "metadata": {},
   "outputs": [],
   "source": [
    "# int integr_order = 3;\n",
    "# TPZIntPoints * integr = quad.CreateSideIntegrationRule(side, integr_order)"
   ]
  },
  {
   "cell_type": "markdown",
   "metadata": {},
   "source": [
    "### e. Definition of a transformation index associated with a side."
   ]
  },
  {
   "cell_type": "code",
   "execution_count": 5,
   "metadata": {},
   "outputs": [],
   "source": [
    "# TPZVec<int64_t> id;\n",
    "# int transf_id = quad.GetTransformId(id);"
   ]
  },
  {
   "cell_type": "markdown",
   "metadata": {},
   "source": [
    "### f. Definition of the permutation index associated with the element."
   ]
  },
  {
   "cell_type": "code",
   "execution_count": 6,
   "metadata": {},
   "outputs": [],
   "source": [
    "# TPZVec<int> permgather; // output variable\n",
    "# quad.GetSideHDivPermutation(transf_id, permgather);"
   ]
  },
  {
   "cell_type": "markdown",
   "metadata": {},
   "source": [
    "### g. Relationship between sides: which sides are included in the closure of a side and orientation (note that the output variable is a stack object)."
   ]
  },
  {
   "cell_type": "code",
   "execution_count": 7,
   "metadata": {},
   "outputs": [],
   "source": [
    "# TPZStack<int> high;\n",
    "# quad.HigherDimensionSides(side, high);"
   ]
  },
  {
   "cell_type": "markdown",
   "metadata": {},
   "source": [
    "### h. Projection of a point to a side (this function is actually implemented on TPZShape)."
   ]
  },
  {
   "cell_type": "code",
   "execution_count": 8,
   "metadata": {},
   "outputs": [],
   "source": [
    "# int rib;\n",
    "# TPZVec<REAL> in;\n",
    "# REAL out;\n",
    "# pzshape::TPZShapeQuad::ProjectPoint2dQuadToRib(rib, in, out);"
   ]
  }
 ],
 "metadata": {
  "kernelspec": {
   "display_name": "C++14",
   "language": "C++14",
   "name": "xeus-cling-cpp14"
  },
  "language_info": {
   "codemirror_mode": "text/x-c++src",
   "file_extension": ".cpp",
   "mimetype": "text/x-c++src",
   "name": "c++",
   "version": "-std=c++14"
  }
 },
 "nbformat": 4,
 "nbformat_minor": 4
}

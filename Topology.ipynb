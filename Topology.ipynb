{
 "cells": [
  {
   "cell_type": "markdown",
   "metadata": {},
   "source": [
    "# neoPZ Documentation"
   ]
  },
  {
   "cell_type": "markdown",
   "metadata": {},
   "source": [
    "## Table of contents\n",
    "\n",
    "1. [Topology](#topology)\n",
    "2. [Geometry](#geometry)"
   ]
  },
  {
   "cell_type": "markdown",
   "metadata": {},
   "source": [
    "<a id=\"topology\"></a>\n",
    "## Topology\n",
    "\n",
    "The topology of all elements implemented on NeoPZ are grouped in pztopology. The classes associated to this namespace are listed in the following:\n",
    "\n",
    " \n",
    "1. TPZPoint\n",
    "2. TPZLine\n",
    "3. TPZQuadrilateral\n",
    "4. TPZTriangle\n",
    "5. TPZCube\n",
    "6. TPZPrism\n",
    "7. TPZPyramid\n",
    "8. TPZTetrahedron\n",
    "\n",
    "Each element (e.g. point, line, quadrilateral, triangle, etc) is considered as the union of its sides. Each side is composed of an open set of points ans has inherent dimension and topology.\n",
    "\n",
    "There is a unique side whose closure is the proper element. By convention this is the highest numbered side.\n",
    "\n",
    "To each element a parameter space can be associated which is commonly known as the master element space."
   ]
  },
  {
   "cell_type": "markdown",
   "metadata": {},
   "source": [
    "### Main atributions of the class Topology\n",
    "\n",
    "#### a. Definition of number of corners, sides, dimension and faces.\n",
    "\n",
    "Side are open sets of points. Within NeoPZ sides are associated with typical finite element topologies: point, line, quadrilateral, triangle, tetrahedra, hexahedra, prism, pyramid.\n",
    "\n",
    "An element is a closed set of points. Each element can be partioned into its sides (an intersection os its sides is empty and their union is the element).\n",
    "\n",
    "Zero dimensional sides are called corners. A corner is both open and closed set."
   ]
  },
  {
   "cell_type": "code",
   "execution_count": 1,
   "metadata": {},
   "outputs": [
    {
     "ename": "SyntaxError",
     "evalue": "invalid syntax (<ipython-input-1-73ee319dbeb5>, line 1)",
     "output_type": "error",
     "traceback": [
      "\u001b[0;36m  File \u001b[0;32m\"<ipython-input-1-73ee319dbeb5>\"\u001b[0;36m, line \u001b[0;32m1\u001b[0m\n\u001b[0;31m    // Make sure to change '/usr/local/' according to the installation in your computer\u001b[0m\n\u001b[0m     ^\u001b[0m\n\u001b[0;31mSyntaxError\u001b[0m\u001b[0;31m:\u001b[0m invalid syntax\n"
     ]
    }
   ],
   "source": [
    "// Make sure to change '/usr/local/' according to the installation in your computer\n",
    "#pragma cling add_include_path(\"/usr/local/pzlib/include\")\n",
    "#pragma cling add_include_path(\"/usr/local/pzlib/include/Topology\")\n",
    "#pragma cling add_include_path(\"/usr/local/pzlib/include/Matrix\")\n",
    "#pragma cling add_include_path(\"/usr/local/pzlib/include/Util\")\n",
    "#pragma cling add_include_path(\"/usr/local/pzlib/include/Common\")\n",
    "#pragma cling add_include_path(\"/usr/local/pzlib/include/Save\")\n",
    "#pragma cling add_include_path(\"/usr/local/pzlib/include/Integral\")\n",
    "#pragma cling add_include_path(\"/usr/local/pzlib/include/LinearSolver\")\n",
    "#pragma cling add_include_path(\"/usr/local/pzlib/include/PerfUtil\")\n",
    "\n",
    "#pragma cling add_library_path(\"/usr/local/lib/\")\n",
    "\n",
    "//#pragma cling load(\"libpz.so\")\n",
    "\n",
    "\n",
    "#include <iostream>\n",
    "\n",
    "#include \"pzvec.h\"\n",
    "//#include \"tpzintpoints.h\"\n",
    "//#include \"pzquad.h\"\n",
    "#include \"tpzquadrilateral.h\"\n",
    "\n",
    "TPZVec<REAL> blob;\n",
    "blob.resize(3);\n",
    "blob[0] = 10.;\n",
    "std::cout << blob[0] << std::endl;\n",
    "\n",
    "// Link error to be solved:\n",
    "pztopology::TPZQuadrilateral quad;\n",
    "std::cout << quad.NCornerNodes << std::endl;\n",
    "std::cout << quad.NSides << std::endl;\n",
    "std::cout << quad.Dimension << std::endl;\n",
    "std::cout << quad.NFaces << std::endl;"
   ]
  },
  {
   "cell_type": "markdown",
   "metadata": {},
   "source": [
    "#### b. Definition of the dimension of each side and associated corner nodes.\n",
    "\n",
    "Each side has an associated topological dimension and a given number of corner nodes:\n",
    "\n",
    "|    Topology   | Dimension | NCornerNodes |\n",
    "|:-------------:|:---------:|:------------:|\n",
    "|     Point     |     0     |       1      |\n",
    "|      Line     |     1     |       2      |\n",
    "|    Triangle   |     2     |       3      |\n",
    "| Quadrilateral |     2     |       4      |\n",
    "|   Tetrahedra  |     3     |       4      |\n",
    "|   Hexahedra   |     3     |       8      |\n",
    "|     Prism     |     3     |       6      |\n",
    "|    Pyramid    |     3     |       5      |"
   ]
  },
  {
   "cell_type": "code",
   "execution_count": 2,
   "metadata": {},
   "outputs": [
    {
     "ename": "SyntaxError",
     "evalue": "invalid syntax (<ipython-input-2-244d53a64d60>, line 1)",
     "output_type": "error",
     "traceback": [
      "\u001b[0;36m  File \u001b[0;32m\"<ipython-input-2-244d53a64d60>\"\u001b[0;36m, line \u001b[0;32m1\u001b[0m\n\u001b[0;31m    int side = 2;\u001b[0m\n\u001b[0m           ^\u001b[0m\n\u001b[0;31mSyntaxError\u001b[0m\u001b[0;31m:\u001b[0m invalid syntax\n"
     ]
    }
   ],
   "source": [
    "int side = 2;\n",
    "int dimside = quad.SideDimension(side);\n",
    "std::cout << \"The dimension of the side \" << side << \" is\" << dimside << std::endl;\n",
    "int nsidenodes = quad.NSideNodes(side);\n",
    "std::cout << \"The number of associated corner nodes of the side \" << side << \" is \" << nsidenodes << std::endl;"
   ]
  },
  {
   "cell_type": "markdown",
   "metadata": {},
   "source": [
    "#### c. Definition of the parametric transformation between sides \n",
    "\n",
    "Each element is partitioned by its sides. The closure of a side includes a number os sides and forms an element topology. This imples that each point on the boundary of a side belongs to a side of lower dimension.\n",
    "\n",
    "A point in the parametric domain of a side can be transformed to a point in the parametric domain of the element. The transformation is a homogeneous transformation (i.e. a linear transformation followed by a translation).\n",
    "\n",
    "These functionalities are implemented by the method *SideToSideTransform*. It is assumed that *sidefrom* belongs to *sideto*. If *sidefrom* corresponds to the volume of the element, the method will return a transformation that is a projection of the interior point to the side."
   ]
  },
  {
   "cell_type": "code",
   "execution_count": null,
   "metadata": {},
   "outputs": [],
   "source": [
    "# int sidefrom = 2;\n",
    "# int sideto = 1;\n",
    "# TPZTransform<> tr = quad.SideToSideTransform(sidefrom, sideto);"
   ]
  },
  {
   "cell_type": "markdown",
   "metadata": {},
   "source": [
    "#### d. Creation of integration rules associated to each side\n",
    "\n",
    "As each side is associated with an element topology, a specific integration rule exists for each side of an element. The integration rule classes associated with each element topology are:\n",
    "\n",
    "|  **Topology** | **Dimension** | **Class name of integration rule** |\n",
    "|:-------------:|:-------------:|:----------------------------------:|\n",
    "|    Abstract   |               |            TPZIntPoints            |\n",
    "|     Point     |       0       |            TPZInt1Point            |\n",
    "|      Line     |       1       |              TPZInt1d              |\n",
    "|    Triangle   |       2       |           TPZIntTriangle           |\n",
    "| Quadrilateral |       2       |             TPZIntQuad             |\n",
    "|   Tetrahedra  |       3       |            TPZIntTetra3D           |\n",
    "|   Hexahedra   |       3       |            TPZIntCube3D            |\n",
    "|     Prism     |       3       |            TPZIntPrism3D           |\n",
    "|    Pyramid    |       3       |           TPZIntPyramid3D          |\n",
    "\n",
    "The method responsible to create the integration rule associated with a side is *CreateSideIntegrationRule*. The input of this method are the *side* and the *order* of the integration rule to be created. The output is a pointer to *TPZIntPoints* which corresponds to the created integration rule.\n"
   ]
  },
  {
   "cell_type": "code",
   "execution_count": null,
   "metadata": {},
   "outputs": [],
   "source": [
    "# int side = 0;\n",
    "# int integr_order = 3;\n",
    "# TPZIntPoints * integr = quad.CreateSideIntegrationRule(side, integr_order)"
   ]
  },
  {
   "cell_type": "markdown",
   "metadata": {},
   "source": [
    "#### e. Definition of a transformation index associated with a side.\n",
    "\n",
    "When working with high order hierarchical shape functions the orientation of the side will influence the values of the functions associated with the side. In order to make the functions unique an orientation is associated with each side which depends on an identifier associated with each node. The transformations associated with lines, triangles and quadrilaterals are documented in [NeoPZ shape functions](https://www.sciencedirect.com/science/article/pii/S0045782509000255?via%3Dihub).\n",
    "\n",
    "The method that computes the transformation index is *int GetTransformId(TPZVec<int64_t> &id)*. The input is a vector with the indexes associated with the corner nodes of a side and the output is its the transformation index."
   ]
  },
  {
   "cell_type": "code",
   "execution_count": null,
   "metadata": {},
   "outputs": [],
   "source": [
    "# TPZVec<int64_t> id;\n",
    "# int transf_id = quad.GetTransformId(id);"
   ]
  },
  {
   "cell_type": "markdown",
   "metadata": {},
   "source": [
    "#### f. Definition of the permutation index associated with the element.\n",
    "\n"
   ]
  },
  {
   "cell_type": "code",
   "execution_count": null,
   "metadata": {},
   "outputs": [],
   "source": [
    "# TPZVec<int> permgather; // output variable\n",
    "# quad.GetSideHDivPermutation(transf_id, permgather);"
   ]
  },
  {
   "cell_type": "markdown",
   "metadata": {},
   "source": [
    "#### g. Relationship between sides: which sides are included in the closure of a side and orientation (note that the output variable is a stack object)."
   ]
  },
  {
   "cell_type": "code",
   "execution_count": null,
   "metadata": {},
   "outputs": [],
   "source": [
    "# TPZStack<int> high;\n",
    "# quad.HigherDimensionSides(side, high);"
   ]
  },
  {
   "cell_type": "markdown",
   "metadata": {},
   "source": [
    "#### h. Projection of a point to a side (this function is actually implemented on TPZShape)."
   ]
  },
  {
   "cell_type": "code",
   "execution_count": null,
   "metadata": {},
   "outputs": [],
   "source": [
    "# int rib;\n",
    "# TPZVec<REAL> in;\n",
    "# REAL out;\n",
    "# pzshape::TPZShapeQuad::ProjectPoint2dQuadToRib(rib, in, out);"
   ]
  },
  {
   "cell_type": "markdown",
   "metadata": {},
   "source": [
    "<a id=\"geometry\"></a>\n",
    "## Geometry\n",
    "\n",
    "The geometry of all elements types implemented on NeoPZ are grouped in pzgeom. The classes associated to this namespace are listed in the following:\n",
    "\n",
    " \n",
    "1. TPZGeoPoint\n",
    "2. TPZGeoLinear\n",
    "3. TPZGeoQuad\n",
    "4. TPZGeoTriangle\n",
    "5. TPZGeoCube\n",
    "6. TPZGeoPrism\n",
    "7. TPZGeoPyramid\n",
    "8. TPZGeoTetrahedra\n",
    "\n",
    "Geometry templates implement the mapping between the master element and actual element. The geometry template also stores the indices of the corner nodes.\n",
    "The primary attribute of the geometric template is to compute the coordinate as a function of the position in master element coordinate (X) and its gradient (GradX). The standard way of computing X and GradX is by using linear interpolation. As such, the geometric template class implements the linear shape functions associated with its topology."
   ]
  }
 ],
 "metadata": {
  "kernelspec": {
   "display_name": "Python 3",
   "language": "python",
   "name": "python3"
  },
  "language_info": {
   "codemirror_mode": {
    "name": "ipython",
    "version": 3
   },
   "file_extension": ".py",
   "mimetype": "text/x-python",
   "name": "python",
   "nbconvert_exporter": "python",
   "pygments_lexer": "ipython3",
   "version": "3.5.2"
  }
 },
 "nbformat": 4,
 "nbformat_minor": 4
}

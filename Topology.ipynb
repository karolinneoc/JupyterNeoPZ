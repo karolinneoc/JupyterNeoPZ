{
 "cells": [
  {
   "cell_type": "markdown",
   "metadata": {},
   "source": [
    "# neoPZ Documentation"
   ]
  },
  {
   "cell_type": "markdown",
   "metadata": {},
   "source": [
    "## Table of contents\n",
    "\n",
    "1. [Topology](#topology)\n",
    "2. [Geometry](#geometry)"
   ]
  },
  {
   "cell_type": "markdown",
   "metadata": {},
   "source": [
    "## 1. Topology <a id=\"topology\"></a>\n",
    "\n",
    "The topology of all elements implemented on NeoPZ are grouped in pztopology. The classes associated to this namespace are listed in the following:\n",
    "\n",
    " \n",
    "1. TPZPoint\n",
    "2. TPZLine\n",
    "3. TPZQuadrilateral\n",
    "4. TPZTriangle\n",
    "5. TPZCube\n",
    "6. TPZPrism\n",
    "7. TPZPyramid\n",
    "8. TPZTetrahedron\n",
    "\n",
    "Each element (e.g. point, line, quadrilateral, triangle, etc) is considered as the union of its sides. Each side is composed of an open set of points ans has inherent dimension and topology.\n",
    "\n",
    "There is a unique side whose closure is the proper element. By convention this is the highest numbered side.\n",
    "\n",
    "To each element a parameter space can be associated which is commonly known as the master element space."
   ]
  },
  {
   "cell_type": "markdown",
   "metadata": {},
   "source": [
    "### 1.1. Main attributions of Topology class\n",
    "\n",
    "#### a. Definition of number of corners, sides, dimension and faces.\n",
    "\n",
    "Side are open sets of points. Within NeoPZ sides are associated with typical finite element topologies: point, line, quadrilateral, triangle, tetrahedra, hexahedra, prism, pyramid.\n",
    "\n",
    "An element is a closed set of points. Each element can be partioned into its sides (an intersection os its sides is empty and their union is the element).\n",
    "\n",
    "Zero dimensional sides are called corners. A corner is both open and closed set."
   ]
  },
  {
   "cell_type": "code",
   "execution_count": 1,
   "metadata": {},
   "outputs": [
    {
     "ename": "SyntaxError",
     "evalue": "invalid syntax (<ipython-input-1-73ee319dbeb5>, line 1)",
     "output_type": "error",
     "traceback": [
      "\u001b[0;36m  File \u001b[0;32m\"<ipython-input-1-73ee319dbeb5>\"\u001b[0;36m, line \u001b[0;32m1\u001b[0m\n\u001b[0;31m    // Make sure to change '/usr/local/' according to the installation in your computer\u001b[0m\n\u001b[0m     ^\u001b[0m\n\u001b[0;31mSyntaxError\u001b[0m\u001b[0;31m:\u001b[0m invalid syntax\n"
     ]
    }
   ],
   "source": [
    "// Make sure to change '/usr/local/' according to the installation in your computer\n",
    "#pragma cling add_include_path(\"/usr/local/pzlib/include\")\n",
    "#pragma cling add_include_path(\"/usr/local/pzlib/include/Topology\")\n",
    "#pragma cling add_include_path(\"/usr/local/pzlib/include/Matrix\")\n",
    "#pragma cling add_include_path(\"/usr/local/pzlib/include/Util\")\n",
    "#pragma cling add_include_path(\"/usr/local/pzlib/include/Common\")\n",
    "#pragma cling add_include_path(\"/usr/local/pzlib/include/Save\")\n",
    "#pragma cling add_include_path(\"/usr/local/pzlib/include/Integral\")\n",
    "#pragma cling add_include_path(\"/usr/local/pzlib/include/LinearSolver\")\n",
    "#pragma cling add_include_path(\"/usr/local/pzlib/include/PerfUtil\")\n",
    "\n",
    "#pragma cling add_library_path(\"/usr/local/lib/\")\n",
    "\n",
    "//#pragma cling load(\"libpz.so\")\n",
    "\n",
    "\n",
    "#include <iostream>\n",
    "\n",
    "#include \"pzvec.h\"\n",
    "//#include \"tpzintpoints.h\"\n",
    "//#include \"pzquad.h\"\n",
    "#include \"tpzquadrilateral.h\"\n",
    "\n",
    "TPZVec<REAL> blob;\n",
    "blob.resize(3);\n",
    "blob[0] = 10.;\n",
    "std::cout << blob[0] << std::endl;\n",
    "\n",
    "// Link error to be solved:\n",
    "pztopology::TPZQuadrilateral quad;\n",
    "std::cout << quad.NCornerNodes << std::endl;\n",
    "std::cout << quad.NSides << std::endl;\n",
    "std::cout << quad.Dimension << std::endl;\n",
    "std::cout << quad.NFaces << std::endl;"
   ]
  },
  {
   "cell_type": "markdown",
   "metadata": {},
   "source": [
    "#### b. Definition of the dimension of each side and associated corner nodes.\n",
    "\n",
    "Each side has an associated topological dimension and a given number of corner nodes:\n",
    "\n",
    "|    Topology   | Dimension | NCornerNodes |\n",
    "|:-------------:|:---------:|:------------:|\n",
    "|     Point     |     0     |       1      |\n",
    "|      Line     |     1     |       2      |\n",
    "|    Triangle   |     2     |       3      |\n",
    "| Quadrilateral |     2     |       4      |\n",
    "|   Tetrahedra  |     3     |       4      |\n",
    "|   Hexahedra   |     3     |       8      |\n",
    "|     Prism     |     3     |       6      |\n",
    "|    Pyramid    |     3     |       5      |"
   ]
  },
  {
   "cell_type": "markdown",
   "metadata": {},
   "source": [
    " The graphics of topologies are shown in the Figure 1."
   ]
  },
  {
   "cell_type": "markdown",
   "metadata": {},
   "source": [
    "<figure class=\"image\">\n",
    "  <table><tr><td><img src='images/LineTopo.png'></td><td><img src='images/LineTopo.png'></td></tr></table>\n",
    "  <table><tr><td><figcaption>(Figure 1A) : The topology of point</figcaption></td><td></td><td></td><td></td><td></td><td></td><td></td><td></td><td></td><td></td><td></td><td></td><td></td><td></td><td></td><td></td><td></td><td></td><td></td><td></td><td></td><td></td><td></td><td></td><td></td><td></td><td></td><td></td><td><figcaption>(Figure 1B) : The topology of line</figcaption></td></tr></table>\n",
    "</figure>"
   ]
  },
  {
   "cell_type": "markdown",
   "metadata": {},
   "source": [
    "<figure class=\"image\">\n",
    "  <table><tr><td><img src='images/TriangleTopo.png'></td><td><img src='images/QuadilateralTopo.png'></td></tr></table>\n",
    "  <table><tr><td><figcaption>(Figure 1C) : The topology of triangle</figcaption></td><td></td><td></td><td></td><td></td><td></td><td></td><td></td><td></td><td></td><td></td><td></td><td></td><td></td><td></td><td></td><td></td><td></td><td></td><td></td><td></td><td></td><td></td><td></td><td><figcaption>(Figure 1D) : The topology of quadrilateral</figcaption></td></tr></table>\n",
    "</figure>"
   ]
  },
  {
   "cell_type": "markdown",
   "metadata": {},
   "source": [
    "<figure class=\"image\">\n",
    "  <table><tr><td><img src='images/TetrahedraTopo.png'></td><td><img src='images/HexahedraTopo.png'></td></tr></table>\n",
    "  <table><tr><td><figcaption>(Figure 1E) : The topology of tetrahedra</figcaption></td><td></td><td></td><td></td><td></td><td></td><td></td><td></td><td></td><td></td><td></td><td></td><td></td><td></td><td></td><td></td><td></td><td></td><td></td><td></td><td></td><td></td><td></td><td></td><td><figcaption>(Figure 1F) : The topology of hexahedra</figcaption></td></tr></table>\n",
    "</figure>"
   ]
  },
  {
   "cell_type": "markdown",
   "metadata": {},
   "source": [
    "<figure class=\"image\">\n",
    "  <table><tr><td><img src='images/PrismTopo.png'></td><td><img src='images/PyramidTopo.png'></td></tr></table>\n",
    "     <center>\n",
    "  <table><tr><td><figcaption>(Figure 1G) : The topology of prism</figcaption></td><td></td><td></td><td></td><td></td><td></td><td></td><td></td><td></td><td></td><td></td><td></td><td></td><td></td><td></td><td></td><td></td><td></td><td></td><td></td><td></td><td></td><td></td><td></td><td><figcaption>(Figure 1H) : The topology of pyramid.</figcaption></td></tr></table>\n",
    "   </center>\n",
    "</figure>"
   ]
  },
  {
   "cell_type": "markdown",
   "metadata": {},
   "source": [
    "##### Table containg orientation for all edges of each topology\n",
    "\n",
    "\n",
    "<table><tr><td>\n",
    "    \n",
    "| Topology | Side | Orientation |\n",
    "|:--------:|:----:|:-----------:|\n",
    "| Triangle |      |             |\n",
    "|          |   3  |     0-1     |\n",
    "|          |   4  |     1-2     |\n",
    "|          |   5  |     2-0     | \n",
    "|          |      |             |\n",
    "|          |      |             |\n",
    "|          |      |             |\n",
    "|          |      |             |\n",
    "|          |      |             |\n",
    "|          |      |             |\n",
    "|          |      |             |\n",
    "\n",
    "</td><td>\n",
    "    \n",
    "|    Topology   | Side | Orientation |\n",
    "|:-------------:|:----:|:-----------:|\n",
    "| Quadrilateral |      |             |\n",
    "|               |   4  |     0-1     |\n",
    "|               |   5  |     1-2     |\n",
    "|               |   6  |     2-3     |\n",
    "|               |   7  |     3-0     |\n",
    "|               |      |             |\n",
    "|               |      |             |\n",
    "|               |      |             |\n",
    "|               |      |             |\n",
    "|               |      |             |\n",
    "\n",
    "</td><td>    \n",
    "    \n",
    "|   Topology  | Side | Orientation |\n",
    "|:-----------:|:----:|:-----------:|\n",
    "| Tetrahedron |      |             |\n",
    "|             |   5  |     0-1     |\n",
    "|             |   6  |     1-2     |\n",
    "|             |   7  |     2-0     |\n",
    "|             |   8  |     0-3     |\n",
    "|             |   9  |     1-3     |\n",
    "|             |  10  |     2-3     |\n",
    "\n",
    "</td></tr></table>"
   ]
  },
  {
   "cell_type": "markdown",
   "metadata": {},
   "source": [
    "<table><tr><td>\n",
    "    \n",
    "|    Topology   |   Side   |   Orientation   |\n",
    "|:-------------:|:--------:|:---------------:|\n",
    "|  Hexahedron   |          |                 |\n",
    "|               |    8     |       0-1       |\n",
    "|               |    9     |       1-2       |\n",
    "|               |    10    |       2-3       |\n",
    "|               |    11    |       3-0       |\n",
    "|               |    12    |       0-4       |\n",
    "|               |    13    |       1-5       |\n",
    "|               |    14    |       2-6       |\n",
    "|               |    15    |       3-7       |\n",
    "|               |    16    |       4-5       |\n",
    "|               |    17    |       5-6       |\n",
    "|               |    18    |       6-7       |\n",
    "|               |    19    |       7-4       |\n",
    "\n",
    "</td><td>\n",
    "    \n",
    "|    Topology   |   Side   |   Orientation   |\n",
    "|:-------------:|:--------:|:---------------:|\n",
    "|    Pyramid    |          |                 |\n",
    "|               |    5     |       0-1       |\n",
    "|               |    6     |       1-2       |\n",
    "|               |    7     |       2-3       |\n",
    "|               |    8     |       3-0       |\n",
    "|               |    9     |       0-4       |\n",
    "|               |    10    |       1-4       |\n",
    "|               |    11    |       2-4       |\n",
    "|               |    12    |       3-4       |\n",
    "|               |          |                 |\n",
    "|               |          |                 |\n",
    "|               |          |                 |\n",
    "|               |          |                 |\n",
    "|               |          |                 |\n",
    "|               |          |                 |\n",
    "|               |          |                 |\n",
    "|               |          |                 |\n",
    "|               |          |                 |\n",
    "|               |          |                 |\n",
    "\n",
    "</td><td>    \n",
    "    \n",
    "|    Topology   |   Side   |   Orientation   |\n",
    "|:-------------:|:--------:|:---------------:|\n",
    "|     Prism     |          |                 |\n",
    "|               |    6     |       0-1       |\n",
    "|               |    7     |       1-2       |\n",
    "|               |    8     |       2-0       |\n",
    "|               |    9     |       0-3       |\n",
    "|               |    10    |       1-4       |\n",
    "|               |    11    |       2-5       |\n",
    "|               |    12    |       3-4       |\n",
    "|               |    13    |       4-5       |\n",
    "|               |    14    |       5-3       |\n",
    "|               |          |                 |\n",
    "|               |          |                 |\n",
    "|               |          |                 |\n",
    "|               |          |                 |\n",
    "|               |          |                 |\n",
    "|               |          |                 |\n",
    "|               |          |                 |\n",
    "\n",
    "</td></tr></table>"
   ]
  },
  {
   "cell_type": "code",
   "execution_count": 16,
   "metadata": {},
   "outputs": [],
   "source": [
    "# int side = 2;\n",
    "# int dimside = quad.SideDimension(side);\n",
    "# std::cout << \"The dimension of the side \" << side << \" is\" << dimside << std::endl;\n",
    "# int nsidenodes = quad.NSideNodes(side);\n",
    "# std::cout << \"The number of associated corner nodes of the side \" << side << \" is \" << nsidenodes << std::endl;"
   ]
  },
  {
   "cell_type": "markdown",
   "metadata": {},
   "source": [
    "#### c. Definition of the parametric transformation between sides \n",
    "\n",
    "Each element is partitioned by its sides. The closure of a side includes a number os sides and forms an element topology. This imples that each point on the boundary of a side belongs to a side of lower dimension.\n",
    "\n",
    "A point in the parametric domain of a side can be transformed to a point in the parametric domain of the element. The transformation is a homogeneous transformation (i.e. a linear transformation followed by a translation).\n",
    "\n",
    "These functionalities are implemented by the method *SideToSideTransform*. It is assumed that *sidefrom* belongs to *sideto*. If *sidefrom* corresponds to the volume of the element, the method will return a transformation that is a projection of the interior point to the side. An example of parameteric transformation between sides is shown in the Figure 2."
   ]
  },
  {
   "cell_type": "markdown",
   "metadata": {},
   "source": [
    "<figure class=\"image\">\n",
    "  <img src='images/SideToSideTransform.png'>\n",
    "  <center>\n",
    "  <figcaption>(Figure 2) : The transformation between sides.</figcaption>\n",
    "  </center>\n",
    "</figure>"
   ]
  },
  {
   "cell_type": "code",
   "execution_count": null,
   "metadata": {},
   "outputs": [],
   "source": [
    "# int sidefrom = 2;\n",
    "# int sideto = 1;\n",
    "# TPZTransform<> tr = quad.SideToSideTransform(sidefrom, sideto);"
   ]
  },
  {
   "cell_type": "markdown",
   "metadata": {},
   "source": [
    "#### d. Creation of integration rules associated to each side\n",
    "\n",
    "As each side is associated with an element topology, a specific integration rule exists for each side of an element. The integration rule classes associated with each element topology are:\n",
    "\n",
    "|  **Topology** | **Dimension** | **Class name of integration rule** |\n",
    "|:-------------:|:-------------:|:----------------------------------:|\n",
    "|    Abstract   |               |            TPZIntPoints            |\n",
    "|     Point     |       0       |            TPZInt1Point            |\n",
    "|      Line     |       1       |              TPZInt1d              |\n",
    "|    Triangle   |       2       |           TPZIntTriangle           |\n",
    "| Quadrilateral |       2       |             TPZIntQuad             |\n",
    "|   Tetrahedra  |       3       |            TPZIntTetra3D           |\n",
    "|   Hexahedra   |       3       |            TPZIntCube3D            |\n",
    "|     Prism     |       3       |            TPZIntPrism3D           |\n",
    "|    Pyramid    |       3       |           TPZIntPyramid3D          |\n",
    "\n",
    "The method responsible to create the integration rule associated with a side is *CreateSideIntegrationRule*. The input of this method are the *side* and the *order* of the integration rule to be created. The output is a pointer to *TPZIntPoints* which corresponds to the created integration rule.\n"
   ]
  },
  {
   "cell_type": "code",
   "execution_count": null,
   "metadata": {},
   "outputs": [],
   "source": [
    "# int side = 0;\n",
    "# int integr_order = 3;\n",
    "# TPZIntPoints * integr = quad.CreateSideIntegrationRule(side, integr_order)"
   ]
  },
  {
   "cell_type": "markdown",
   "metadata": {},
   "source": [
    "#### e. Definition of a transformation index associated with a side.\n",
    "\n",
    "When working with high order hierarchical shape functions the orientation of the side will influence the values of the functions associated with the side. In order to make the functions unique an orientation is associated with each side which depends on an identifier associated with each node. The transformations associated with lines, triangles and quadrilaterals are documented in [NeoPZ shape functions](https://www.sciencedirect.com/science/article/pii/S0045782509000255?via%3Dihub).\n",
    "\n",
    "The method that computes the transformation index is *int GetTransformId(TPZVec<int64_t> &id)*. The input is a vector with the ids associated with the corner nodes of a side and the output is its the transformation index."
   ]
  },
  {
   "cell_type": "code",
   "execution_count": null,
   "metadata": {},
   "outputs": [],
   "source": [
    "# TPZVec<int64_t> id;\n",
    "# int transf_id = quad.GetTransformId(id);"
   ]
  },
  {
   "cell_type": "markdown",
   "metadata": {},
   "source": [
    "#### f. Definition of the permutation index associated with the element side.\n",
    "\n",
    "When working with H(div) conforming approximations fluxes with continuous normal components are associated with sides of dimension \"dim-1\" where dim is the dimension of the element. In NeoPZ H(div) compatible flux functions are computed by multiplying a vector field with H1 compatible shape functions. As is documented in [NeoPZ shape functions](https://www.sciencedirect.com/science/article/pii/S0045782509000255?via%3Dihub), H1 shape functions are associated with sides. In order to generate these shape functions in an order compatible between two neighbouring elements, the order is determined by the transformation associated with the side. \n",
    "The method that computes the permutation index associated with an element side is *GetSideHDivPermutation(int transformationid, TPZVec &permgather)*. It is implemented for one dimensional, quadrilateral and triangular topologies.\n",
    "\n"
   ]
  },
  {
   "cell_type": "code",
   "execution_count": null,
   "metadata": {},
   "outputs": [],
   "source": [
    "# TPZVec<int> permgather; // output variable\n",
    "# quad.GetSideHDivPermutation(transf_id, permgather);"
   ]
  },
  {
   "cell_type": "markdown",
   "metadata": {},
   "source": [
    "#### g. Relationship between sides\n",
    "\n",
    "This method returns all sides with higher dimension which are included in the closure of a side. The method that shows the higher dimension sides is *HigherDimensionSides(int side, TPZStack &high)*. The input is an integer and the output is a stack."
   ]
  },
  {
   "cell_type": "code",
   "execution_count": 1,
   "metadata": {},
   "outputs": [],
   "source": [
    "# TPZStack<int> high;\n",
    "# quad.HigherDimensionSides(side, high);"
   ]
  },
  {
   "cell_type": "markdown",
   "metadata": {},
   "source": [
    "#### h. Projection of a point to a side (this function is actually implemented on TPZShape).\n",
    "\n",
    "When we want to project a point from the interior of the element to a rib in NeoPZ, it is used the method *ProjectPoint2dQuadToRib*. The inputs of this method are the rib index to which the point should be projected and the coordinate of the point at the interior of the element and the output is the coordinate of the point on the rib.\n",
    "An example of projection of a point to a side is shown in the Figure 3. "
   ]
  },
  {
   "cell_type": "markdown",
   "metadata": {},
   "source": [
    "<figure class=\"image\">\n",
    "  <img src='images/Projected2dToRib.png'>\n",
    "  <center>\n",
    "  <figcaption>(Figure 3) : The projection of a point to a side.</figcaption>\n",
    "  </center>\n",
    "</figure>"
   ]
  },
  {
   "cell_type": "code",
   "execution_count": 36,
   "metadata": {},
   "outputs": [],
   "source": [
    "from IPython.display import Video\n",
    "Video('./video/animate.mov');"
   ]
  },
  {
   "cell_type": "code",
   "execution_count": null,
   "metadata": {},
   "outputs": [],
   "source": [
    "# int rib;\n",
    "# TPZVec<REAL> in;\n",
    "# REAL out;\n",
    "# pzshape::TPZShapeQuad::ProjectPoint2dQuadToRib(rib, in, out);"
   ]
  },
  {
   "cell_type": "markdown",
   "metadata": {},
   "source": [
    "## 2. Geometry <a id=\"geometry\"></a>\n",
    "\n",
    "The geometry of all elements types implemented on NeoPZ are grouped in pzgeom. The classes associated to this namespace are listed in the following:\n",
    " \n",
    "1. TPZGeoPoint\n",
    "2. TPZGeoLinear\n",
    "3. TPZGeoQuad\n",
    "4. TPZGeoTriangle\n",
    "5. TPZGeoCube\n",
    "6. TPZGeoPrism\n",
    "7. TPZGeoPyramid\n",
    "8. TPZGeoTetrahedra\n",
    "\n",
    "Geometry templates implement the mapping between the master element and actual element. The geometry template also stores the indices of the corner nodes.\n",
    "The primary attribute of the geometric template is to compute the coordinate as a function of the position in master element coordinate (X) and its gradient (GradX). The standard way of computing X and GradX is by using linear interpolation. As such, the geometric template class implements the linear shape functions associated with its topology."
   ]
  },
  {
   "cell_type": "markdown",
   "metadata": {},
   "source": [
    "### 2.1. Fundamental attributes of the Geometric template classes\n",
    "\n",
    "The geometric template classes are responsible for computing X and GradX for a given point in parameter space. As the only data available in the class are the node indexes (through the super class TPZNodeRep), some data needs to be passed as arguments.\n",
    "There are two signatures for X and GradX:\n",
    "* Passing a geometric element pointer as argument. The geometric element is used to access the geometric nodes and their coordinates.\n",
    "* Passing a matrix with the node coordinates as argument. In this case the computation of X is simply  $x(\\xi,\\eta)=\\sum\\phi_i(\\xi,\\eta)x_i$.\n",
    "\n",
    "The type of the input/output data is defined as template argument. As such X and GradX can be called with Fad variables."
   ]
  },
  {
   "cell_type": "code",
   "execution_count": null,
   "metadata": {},
   "outputs": [],
   "source": [
    "# don't forget to define the parameters\n",
    "# TPZGeoEl gel;\n",
    "# TPZVec<REAL> loc;\n",
    "# TPZVec<REAL> x;\n",
    "# TPZVec<REAL> gradx;\n",
    "# pzgeom::TPZGeoQuad::X(gel, loc, x);\n",
    "# pzgeom::TPZGeoQuad::GradX(gel, loc, gradx);"
   ]
  },
  {
   "cell_type": "code",
   "execution_count": 2,
   "metadata": {},
   "outputs": [],
   "source": [
    "# TPZFMatrix<REAL> nodes;\n",
    "# TPZVec<REAL> loc;\n",
    "# TPZVec<REAL> x;\n",
    "# TPZVec<REAL> gradx;\n",
    "# pzgeom::TPZGeoQuad::X(nodes, loc, x);\n",
    "# pzgeom::TPZGeoQuad::GradX(nodes, loc, gradx);"
   ]
  },
  {
   "cell_type": "markdown",
   "metadata": {},
   "source": [
    "### 2.2 Auxiliary methods integrating the geometric template with geometric elements and geometric mesh\n",
    "\n",
    "#### a. Creating an element along a side\n",
    "\n",
    "When we want to create a geometric element along a side, in NeoPZ the method is *TPZGeoEl $\\ast$CreateBCGeoEl*, in which the geometric template determines the kind of neighbour that needs to be created. \n",
    "\n"
   ]
  },
  {
   "cell_type": "code",
   "execution_count": null,
   "metadata": {},
   "outputs": [],
   "source": [
    "# don't forget to define the parameters\n",
    "# TPZGeoEl gel;\n",
    "# int side = 0;\n",
    "# int bc = 0;\n",
    "# TPZGeoEl *ElBC = CreateBCGeoEl(gel, side, bc);"
   ]
  },
  {
   "cell_type": "markdown",
   "metadata": {},
   "source": [
    "#### b. Inserting an example element\n",
    "\n",
    "When we want to create an example element based on the topology, in NeoPZ the method is *InsertExampleElement*, in which the geometric template create the element that should be inserted. \n",
    "This method is used to create a mesh with a collection of all types of geometric elements available in the library."
   ]
  },
  {
   "cell_type": "code",
   "execution_count": null,
   "metadata": {},
   "outputs": [],
   "source": [
    "# don't forget to define the parameters\n",
    "# TPZGeoMesh gmesh;\n",
    "# int matid = 0;\n",
    "# TPZVec<REAL> lowercorner;\n",
    "# TPZVec<REAL> size;\n",
    "# InsertExampleElement(gmesh, matid, lowercorner, size);"
   ]
  },
  {
   "cell_type": "markdown",
   "metadata": {},
   "source": [
    "#### c. Creating a geometric element\n",
    "\n",
    "When we want to create an element according to the type of the father element, in NeoPZ the method is *TPZGeoEl $\\ast$ CreateGeoElement*."
   ]
  },
  {
   "cell_type": "code",
   "execution_count": null,
   "metadata": {},
   "outputs": [],
   "source": [
    "# don't forget to define the parameters\n",
    "# TPZGeoMesh gmesh;\n",
    "# MElementType type = EQuadrilateral;\n",
    "# TPZVec<int64_t> nodeindexes;\n",
    "# int matid = 0;\n",
    "# int64_t index = 0;\n",
    "# TPZGeoEl *gel = CreateGeoElement(gmesh, type, nodeindexes, matid, index);"
   ]
  },
  {
   "cell_type": "markdown",
   "metadata": {},
   "source": [
    "#### d. Auxiliary method\n",
    "\n",
    "The method *IsLinearMapping* declares if the map along the side is linear.\n",
    "Also, the method *IsGeoBlendEl* indicates if the mapping is originated from a blend element."
   ]
  },
  {
   "cell_type": "code",
   "execution_count": null,
   "metadata": {},
   "outputs": [],
   "source": []
  }
 ],
 "metadata": {
  "kernelspec": {
   "display_name": "Python 3",
   "language": "python",
   "name": "python3"
  },
  "language_info": {
   "codemirror_mode": {
    "name": "ipython",
    "version": 3
   },
   "file_extension": ".py",
   "mimetype": "text/x-python",
   "name": "python",
   "nbconvert_exporter": "python",
   "pygments_lexer": "ipython3",
   "version": "3.5.2"
  }
 },
 "nbformat": 4,
 "nbformat_minor": 4
}

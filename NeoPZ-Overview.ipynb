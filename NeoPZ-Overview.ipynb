{
 "cells": [
  {
   "cell_type": "markdown",
   "metadata": {},
   "source": [
    "## 4. The NeoPZ library, an overview\n",
    "\n",
    "This document presents the global structure of the library and the design decisions that were made."
   ]
  },
  {
   "cell_type": "markdown",
   "metadata": {},
   "source": [
    "### 4.1 The main components of the library\n",
    "\n",
    "The library is composed of sets of classes which should have a one way de- pendency. This dependency is not always respected however mainly due to convenience of coding.\n",
    "\n",
    " \n",
    "1. Utility classes\n",
    "2. Matrix classes\n",
    "3. Geometry module\n",
    "4. Approximation space module\n",
    "5. Material module\n",
    "6. Analysis module\n",
    "7. Solver module\n",
    "8. Structural matrix module\n",
    "9. Post-processing module"
   ]
  },
  {
   "cell_type": "markdown",
   "metadata": {},
   "source": [
    "#### 4.1.1. The utility classes\n",
    "\n",
    "The NeoPZ library even contains classes to implement vectors! The reason for doing so is that most programming errors are due to accessing elements of vectors out of bounds. As the stl::vector class does not perform element access verifications we needed to write our own. Another motive is that the std::vector class does not have a robust interface for allocating vectors with pre-allocated storage. There exists a std::vector variant that preallocates storage on the stack, but it does not allow to extend the dimension of the object beyond the preallocated storage.\n",
    "\n",
    "The main classes in the utility directory are\n",
    "\n",
    "1. TPZVec < T > : a vector of T objects\n",
    "    \n",
    "2. TPZManVector<T,N> : a vector of T objects with N preallocated objects. This class will not use dynamic memory allocation if the size of the vector is less than or iqual to N. If the size of the vector is larger, dynamically allocated memory will be used\n",
    "\n",
    "3. TPZStack<T,N> : a stack class whose main interface is Push and Pop\n",
    "\n",
    "4. TPZChunkVector<T,exp> : a vector of T objects where storage is allo- cated in chunks of size 2<< exp. This class is usefull for slowly growing objects\n",
    "\n",
    "5. TPZAdmChunkVector<T,exp> : a class derived from ChunkVector with a possibility of signaling unused elements. This class keeps track of free indexes and index allocation. Data compression is also available\n",
    "\n",
    "6. TPZAutoPointer < T > : a class which manages access to a pointer by reference counting. When the reference count falls to zero, the object is deleted.\n"
   ]
  },
  {
   "cell_type": "markdown",
   "metadata": {},
   "source": [
    "#### 4.1.2. The matrix classes\n",
    "\n",
    "The finite element method is almost totally matrix based. Therefore a special attention needs to be given to matrix objects. From the point of view of the NeoPZ environment, a matrix object implements a linear transformation from $R^N \\rightarrow R^M$. The individual elements of the matrix object maybe addressable or not. A matrix object may implement a decomposition method or not.\n",
    "\n",
    "The derived matrix class TPZFMatrix<T> implements a full matrix and is storage declared. Its elements are sequentially stored in a column maior pattern (compatible with Fortran). This allows to other methods to use pointer arithmetic to access the elements of this class."
   ]
  },
  {
   "cell_type": "markdown",
   "metadata": {},
   "source": [
    "#### 4.1.3 The Geometry module\n",
    "\n",
    "Definition of the computational domain as the union of mapped elements. The boundary conditions are defined as lower dimensional elements. h-Refinement is defined at this level. When applying h-refinement, the complete refinement tree is stored. This datastructure is essential to implement shape functions restraint.\n",
    "\n",
    "Geometric elements are created based on a template structure. As such, the geometries that can be represented by the geometric elements can be extended to meet the user’s need.\n",
    "\n",
    "H-adaptivity has been generalized by the definition of refinement patterns. Refinement patterns are meshes that define how an element should be divided into sub-elements.\n",
    "\n",
    "The classes related with the geometry are documented in [Geometry](Geometry.ipynb). Each geometric element has an especific Topology (documented in [Topology](Topology.ipynb))."
   ]
  },
  {
   "cell_type": "markdown",
   "metadata": {},
   "source": [
    "#### 4.1.4 The Approximation space module\n",
    "\n",
    "Definition of the approximation space (TPZCompMesh). The space constructs functions over computational elements. The continuity of the functions is ensured by the sharing of multiplying coeficients.\n",
    "\n",
    "\n",
    "In [Shape Functions](Shape-Functions.ipynb) is documented the methods related to $H^1$ shape functions implemented in NeoPZ."
   ]
  },
  {
   "cell_type": "markdown",
   "metadata": {},
   "source": [
    "#### 4.1.5 The Material module\n",
    "Definition of the bilinear form that defines the weak statement of the partial differential equation."
   ]
  },
  {
   "cell_type": "markdown",
   "metadata": {},
   "source": [
    "#### 4.1.6 The Analysis module\n",
    "The analysis module combines the facilities of all other modules to compute a finite element approximation and perform the post processing."
   ]
  },
  {
   "cell_type": "markdown",
   "metadata": {},
   "source": [
    "#### 4.1.7 The Solver module\n",
    "The inversion process of the global system of equations can be either direct or iterative. The solver module allows to define solution processes in a flexible way allowing to define arbitrary pre-conditioners for iterative methods, multi-grid cycles and others."
   ]
  },
  {
   "cell_type": "markdown",
   "metadata": {},
   "source": [
    "#### 4.1.8 The structural matrix module\n",
    "These are a set of bridge classes between the computational meshes and the matrices that store the global system of equations."
   ]
  },
  {
   "cell_type": "markdown",
   "metadata": {},
   "source": [
    "#### 4.1.9 The post processing module\n",
    "Visualization of the results of the finite element simulation."
   ]
  }
 ],
 "metadata": {
  "kernelspec": {
   "display_name": "Python 3",
   "language": "python",
   "name": "python3"
  },
  "language_info": {
   "codemirror_mode": {
    "name": "ipython",
    "version": 3
   },
   "file_extension": ".py",
   "mimetype": "text/x-python",
   "name": "python",
   "nbconvert_exporter": "python",
   "pygments_lexer": "ipython3",
   "version": "3.7.4"
  }
 },
 "nbformat": 4,
 "nbformat_minor": 2
}

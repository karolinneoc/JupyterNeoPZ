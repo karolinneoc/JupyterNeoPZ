{
 "cells": [
  {
   "cell_type": "markdown",
   "metadata": {},
   "source": [
    "## 1. Topology <a id=\"topology\"></a>\n",
    "\n",
    "The topology of all elements implemented on NeoPZ are grouped in pztopology. The classes associated to this namespace are listed in the following:\n",
    "\n",
    " \n",
    "1. TPZPoint\n",
    "2. TPZLine\n",
    "3. TPZQuadrilateral\n",
    "4. TPZTriangle\n",
    "5. TPZCube\n",
    "6. TPZPrism\n",
    "7. TPZPyramid\n",
    "8. TPZTetrahedron\n",
    "\n",
    "Each element (e.g. point, line, quadrilateral, triangle, etc) is considered as the union of its sides. Each side is composed of an open set of points ans has inherent dimension and topology.\n",
    "\n",
    "There is a unique side whose closure is the proper element. By convention this is the highest numbered side.\n",
    "\n",
    "To each element a parameter space can be associated which is commonly known as the master element space."
   ]
  },
  {
   "cell_type": "markdown",
   "metadata": {},
   "source": [
    "### 1.1. Main attributions of Topology class\n",
    "\n",
    "#### a. Definition of number of corners, sides, dimension and faces.\n",
    "\n",
    "Side are open sets of points. Within NeoPZ sides are associated with typical finite element topologies: point, line, quadrilateral, triangle, tetrahedra, hexahedra, prism, pyramid.\n",
    "\n",
    "An element is a closed set of points. Each element can be partioned into its sides (an intersection os its sides is empty and their union is the element).\n",
    "\n",
    "Zero dimensional sides are called corners. A corner is both open and closed set."
   ]
  },
  {
   "cell_type": "code",
   "execution_count": 1,
   "metadata": {},
   "outputs": [
    {
     "ename": "SyntaxError",
     "evalue": "invalid syntax (<ipython-input-1-73ee319dbeb5>, line 1)",
     "output_type": "error",
     "traceback": [
      "\u001b[0;36m  File \u001b[0;32m\"<ipython-input-1-73ee319dbeb5>\"\u001b[0;36m, line \u001b[0;32m1\u001b[0m\n\u001b[0;31m    // Make sure to change '/usr/local/' according to the installation in your computer\u001b[0m\n\u001b[0m     ^\u001b[0m\n\u001b[0;31mSyntaxError\u001b[0m\u001b[0;31m:\u001b[0m invalid syntax\n"
     ]
    }
   ],
   "source": [
    "// Make sure to change '/usr/local/' according to the installation in your computer\n",
    "#pragma cling add_include_path(\"/usr/local/pzlib/include\")\n",
    "#pragma cling add_include_path(\"/usr/local/pzlib/include/Topology\")\n",
    "#pragma cling add_include_path(\"/usr/local/pzlib/include/Matrix\")\n",
    "#pragma cling add_include_path(\"/usr/local/pzlib/include/Util\")\n",
    "#pragma cling add_include_path(\"/usr/local/pzlib/include/Common\")\n",
    "#pragma cling add_include_path(\"/usr/local/pzlib/include/Save\")\n",
    "#pragma cling add_include_path(\"/usr/local/pzlib/include/Integral\")\n",
    "#pragma cling add_include_path(\"/usr/local/pzlib/include/LinearSolver\")\n",
    "#pragma cling add_include_path(\"/usr/local/pzlib/include/PerfUtil\")\n",
    "\n",
    "#pragma cling add_library_path(\"/usr/local/lib/\")\n",
    "\n",
    "//#pragma cling load(\"libpz.so\")\n",
    "\n",
    "\n",
    "#include <iostream>\n",
    "\n",
    "#include \"pzvec.h\"\n",
    "//#include \"tpzintpoints.h\"\n",
    "//#include \"pzquad.h\"\n",
    "#include \"tpzquadrilateral.h\"\n",
    "\n",
    "TPZVec<REAL> blob;\n",
    "blob.resize(3);\n",
    "blob[0] = 10.;\n",
    "std::cout << blob[0] << std::endl;\n",
    "\n",
    "// Link error to be solved:\n",
    "pztopology::TPZQuadrilateral quad;\n",
    "std::cout << quad.NCornerNodes << std::endl;\n",
    "std::cout << quad.NSides << std::endl;\n",
    "std::cout << quad.Dimension << std::endl;\n",
    "std::cout << quad.NFaces << std::endl;"
   ]
  },
  {
   "cell_type": "markdown",
   "metadata": {},
   "source": [
    "#### b. Definition of the dimension of each side and associated corner nodes.\n",
    "\n",
    "Each side has an associated topological dimension and a given number of corner nodes:\n",
    "\n",
    "|    Topology   | Dimension | NCornerNodes |\n",
    "|:-------------:|:---------:|:------------:|\n",
    "|     Point     |     0     |       1      |\n",
    "|      Line     |     1     |       2      |\n",
    "|    Triangle   |     2     |       3      |\n",
    "| Quadrilateral |     2     |       4      |\n",
    "|   Tetrahedra  |     3     |       4      |\n",
    "|   Hexahedra   |     3     |       8      |\n",
    "|     Prism     |     3     |       6      |\n",
    "|    Pyramid    |     3     |       5      |"
   ]
  },
  {
   "cell_type": "markdown",
   "metadata": {},
   "source": [
    " The graphics of topologies are shown in the Figure 1."
   ]
  },
  {
   "cell_type": "markdown",
   "metadata": {},
   "source": [
    "<figure class=\"image\">\n",
    "  <table><tr><td><img src='images/PointTopo.png'></td><td><img src='images/LineTopo.png'></td></tr></table>\n",
    "  <table><tr><td><figcaption>(Figure 1A) : The topology of point</figcaption></td><td></td><td></td><td></td><td></td><td></td><td></td><td></td><td></td><td></td><td></td><td></td><td></td><td></td><td></td><td></td><td></td><td></td><td></td><td></td><td></td><td></td><td></td><td></td><td></td><td></td><td></td><td></td><td><figcaption>(Figure 1B) : The topology of line</figcaption></td></tr></table>\n",
    "</figure>"
   ]
  },
  {
   "cell_type": "markdown",
   "metadata": {},
   "source": [
    "<figure class=\"image\">\n",
    "  <table><tr><td><img src='images/TriangleTopo.png'></td><td><img src='images/QuadilateralTopo.png'></td></tr></table>\n",
    "  <table><tr><td><figcaption>(Figure 1C) : The topology of triangle</figcaption></td><td></td><td></td><td></td><td></td><td></td><td></td><td></td><td></td><td></td><td></td><td></td><td></td><td></td><td></td><td></td><td></td><td></td><td></td><td></td><td></td><td></td><td></td><td></td><td><figcaption>(Figure 1D) : The topology of quadrilateral</figcaption></td></tr></table>\n",
    "</figure>"
   ]
  },
  {
   "cell_type": "markdown",
   "metadata": {},
   "source": [
    "<figure class=\"image\">\n",
    "  <table><tr><td><img src='images/TetrahedraTopo.png'></td><td><img src='images/HexahedraTopo.png'></td></tr></table>\n",
    "  <table><tr><td><figcaption>(Figure 1E) : The topology of tetrahedra</figcaption></td><td></td><td></td><td></td><td></td><td></td><td></td><td></td><td></td><td></td><td></td><td></td><td></td><td></td><td></td><td></td><td></td><td></td><td></td><td></td><td></td><td></td><td></td><td></td><td><figcaption>(Figure 1F) : The topology of hexahedra</figcaption></td></tr></table>\n",
    "</figure>"
   ]
  },
  {
   "cell_type": "markdown",
   "metadata": {},
   "source": [
    "The following links show the ProjectPointSideToSide, (Animation):"
   ]
  },
  {
   "cell_type": "code",
   "execution_count": 14,
   "metadata": {},
   "outputs": [
    {
     "data": {
      "application/vnd.jupyter.widget-view+json": {
       "model_id": "e45298500c8c404a88c083abb702d15b",
       "version_major": 2,
       "version_minor": 0
      },
      "text/plain": [
       "interactive(children=(FloatSlider(value=0.0, description='xi', max=1.0, step=0.01), FloatSlider(value=0.0, des…"
      ]
     },
     "metadata": {},
     "output_type": "display_data"
    }
   ],
   "source": [
    "# %%HTML\n",
    "# <video width=\"500\" height=\"500\" controls>\n",
    "#   <source src=\"sources/triangle.mp4\" type=\"video/mp4\">\n",
    "# </video>\n",
    "from ipywidgets import interactive\n",
    "import matplotlib.pyplot as plt\n",
    "\n",
    "def ProjectPoint2dTriangToRib(fpoint,fside):\n",
    "    if fside==3:\n",
    "        x=fpoint[0]+fpoint[1]/2;\n",
    "        y=0;\n",
    "        plt.plot(x,y)\n",
    "    if fside==4:\n",
    "        x=(fpoint[0] - fpoint[1] + 1)/2;\n",
    "        y=(-1.0*(fpoint[0] - fpoint[1] + 1)/2) + 1;\n",
    "        plt.plot(x,y)\n",
    "    if fside==5:\n",
    "        x=0;\n",
    "        y=1.0-(1-fpoint[1]-(fpoint[0])/2);\n",
    "        plt.plot(x,y)\n",
    "    if fside == 6:\n",
    "        x1 = fpoint[0] + fpoint[1]/2;\n",
    "        y1 = 0;\n",
    "        x2 = 0;\n",
    "        y2 = 1.0 - (1 - fpoint[1] - (fpoint[0])/2);\n",
    "        x3 = (fpoint[0] - fpoint[1] + 1)/2;\n",
    "        y3 = (-1.0*(fpoint[0] - fpoint[1] + 1)/2) + 1;\n",
    "        plt.plot([fpoint[0],x1],[fpoint[1],y1],'r')\n",
    "        plt.plot([fpoint[0],x2],[fpoint[1],y2],'b')\n",
    "        plt.plot([fpoint[0],x3],[fpoint[1],y3],'m')\n",
    "\n",
    "def PlotProyec(xi,eta):\n",
    "    if eta>1-xi:\n",
    "        eta=1-xi;\n",
    "    \n",
    "    plt.figure(figsize=(10,10)) \n",
    "    ax = plt.gca() # get the axis handle\n",
    "    ax.set_aspect(1) # set the ratio as 1. \n",
    "    \n",
    "    plt.plot([0,0,1,0], [0,1,0,0],'k'); # plot the triangle\n",
    "    \n",
    "    plt.plot(xi,eta,'o'); # plot the circle\n",
    "    \n",
    "    ProjectPoint2dTriangToRib((xi,eta),fside) # plot the projections\n",
    "    \n",
    "    plt.ylim(-0.3,1.3)\n",
    "    plt.xlabel('\\u03BE')\n",
    "    plt.ylabel('\\u03B7')\n",
    "    plt.title('Triangle Transformations');\n",
    "\n",
    "fside=6;\n",
    "m = interactive(PlotProyec,xi=(0,1,0.01),eta=(0,1,0.01));\n",
    "output = m.children[-1];\n",
    "m"
   ]
  },
  {
   "cell_type": "code",
   "execution_count": 13,
   "metadata": {},
   "outputs": [
    {
     "data": {
      "application/vnd.jupyter.widget-view+json": {
       "model_id": "c9d5f68b09be4c29b8ea7e0d3951e0b0",
       "version_major": 2,
       "version_minor": 0
      },
      "text/plain": [
       "interactive(children=(FloatSlider(value=0.0, description='xi', max=1.0, min=-1.0, step=0.01), FloatSlider(valu…"
      ]
     },
     "metadata": {},
     "output_type": "display_data"
    }
   ],
   "source": [
    "# %%HTML\n",
    "# <video width=\"500\" height=\"500\" controls>\n",
    "#   <source src=\"sources/cube.mp4\" type=\"video/mp4\">\n",
    "# </video>\n",
    "\n",
    "######## NOT READY YET!!!\n",
    "\n",
    "from ipywidgets import interactive\n",
    "import matplotlib.pyplot as plt\n",
    "import numpy as np\n",
    "from mpl_toolkits.mplot3d import Axes3D  # noqa: F401 unused import\n",
    "\n",
    "\n",
    "def ProyectTopoCube(fpoint0,fside):\n",
    "    fpoint=fpoint0\n",
    "    if fside==8 or fside==16:\n",
    "        x=fpoint[0];\n",
    "        y=-1;\n",
    "        if (fside==8):\n",
    "            z=1\n",
    "        else:\n",
    "            z=-1\n",
    "        plt.plot([fpoint[0],x],[fpoint[1],y],[fpoint[2],z],'ko--')\n",
    "    if fside==9 or fside==17:\n",
    "        x=1;\n",
    "        y=fpoint[1];\n",
    "        if (fside==9):\n",
    "            z=-1\n",
    "        else:\n",
    "            z=1\n",
    "        plt.plot([fpoint[0],x],[fpoint[1],y],[fpoint[2],z],'ko--')\n",
    "    if fside==10 or fside ==18:\n",
    "        x = fpoint[1];\n",
    "        y = 1;\n",
    "        if (fside==10):\n",
    "            z=-1\n",
    "        else:\n",
    "            z=1\n",
    "        plt.plot([fpoint[0],x],[fpoint[1],y],[fpoint[2],z],'ko--')\n",
    "    if fside==11 or fside==19:\n",
    "        x=-1\n",
    "        y=fpoint[1]\n",
    "        if (fside==11):\n",
    "            z=-1\n",
    "        else:\n",
    "            z=1\n",
    "        plt.plot([fpoint[0],x],[fpoint[1],y],[fpoint[2],z],'ko--')\n",
    "    if fside==12 or fside==13:\n",
    "        y=-1\n",
    "        z=fpoint[2]\n",
    "        if (fside==12):\n",
    "            x=-1\n",
    "        else:\n",
    "            x=1\n",
    "        plt.plot([fpoint[0],x],[fpoint[1],y],[fpoint[2],z], 'ko--')\n",
    "    if fside==15 or fside==14:\n",
    "        y=1\n",
    "        z=fpoint[2]\n",
    "        if (fside==15):\n",
    "            x=-1\n",
    "        else:\n",
    "            x=1\n",
    "        plt.plot([fpoint[0],x],[fpoint[1],y],[fpoint[2],z], 'ko--')\n",
    "    if fside==20 or fside==25:\n",
    "        x=fpoint[0]\n",
    "        y=fpoint[1]\n",
    "        if fside==20:\n",
    "            z=-1\n",
    "        else:\n",
    "            z=1\n",
    "        plt.plot([fpoint[0],x],[fpoint[1],y],[fpoint[2],z], 'go--')\n",
    "    if fside==21 or fside==23:\n",
    "        x=fpoint[0];\n",
    "        z=fpoint[2];\n",
    "        if fside==21:\n",
    "            y=-1\n",
    "        else:\n",
    "            y=1\n",
    "        plt.plot([fpoint[0],x],[fpoint[1],y],[fpoint[2],z], 'go--')\n",
    "    if fside==22 or fside==24:\n",
    "        y=fpoint[1]\n",
    "        z=fpoint[2]\n",
    "        if fside==22:\n",
    "            x=-1\n",
    "        else:\n",
    "            x=1\n",
    "        plt.plot([fpoint[0],x],[fpoint[1],y],[fpoint[2],z], 'go--')\n",
    "    \n",
    "def PlotLines(fpoint0,fside):\n",
    "    if fside==100:\n",
    "        for i in range(20,26,1):\n",
    "            ProyectTopoCube(fpoint0, i)\n",
    "    if fside==200:\n",
    "        for i in range(8,20,1):\n",
    "            ProyectTopoCube(fpoint0, i)\n",
    "    if fside==300:\n",
    "        for i in range(8,26,1):\n",
    "            ProyectTopoCube(fpoint0, i)\n",
    "            \n",
    "\n",
    "def PlotProyecCube(xi,eta,zeta):\n",
    "    points = np.array([[-1, -1, -1],\n",
    "                      [1, -1, -1 ],\n",
    "                      [1, 1, -1],\n",
    "                      [-1, 1, -1],\n",
    "                      [-1, -1, 1],\n",
    "                      [1, -1, 1 ],\n",
    "                      [1, 1, 1],\n",
    "                      [-1, 1, 1]])\n",
    "    fig = plt.figure(figsize=(10,10))\n",
    "    ax = fig.add_subplot(111, projection='3d')\n",
    "    r = [-1,1]\n",
    "    X, Y = np.meshgrid(r, r)\n",
    "    one = np.ones(4).reshape(2, 2)\n",
    "    ax.plot_wireframe(X,Y,one, alpha=0.5)\n",
    "    ax.plot_wireframe(X,Y,-one, alpha=0.5)\n",
    "    ax.plot_wireframe(X,-one,Y, alpha=0.5)\n",
    "    ax.plot_wireframe(X,one,Y, alpha=0.5)\n",
    "    ax.plot_wireframe(one,X,Y, alpha=0.5)\n",
    "    ax.plot_wireframe(-one,X,Y, alpha=0.5)\n",
    "    ax.scatter3D(points[:, 0], points[:, 1], points[:, 2])\n",
    "    ax.set_xlabel('X')\n",
    "    ax.set_ylabel('Y')\n",
    "    ax.set_zlabel('Z')\n",
    "    fside=300\n",
    "    PlotLines((xi,eta,zeta),fside)\n",
    "    plt.show()\n",
    "\n",
    "m = interactive(PlotProyecCube,xi=(-1,1,0.01),eta=(-1,1,0.01),zeta=(-1,1,0.01));\n",
    "output = m.children[-1];\n",
    "m"
   ]
  },
  {
   "cell_type": "markdown",
   "metadata": {},
   "source": [
    "##### Table containg orientation for all edges of each topology\n",
    "\n",
    "\n",
    "<table><tr><td>\n",
    "    \n",
    "| Topology | Side | Orientation |\n",
    "|:--------:|:----:|:-----------:|\n",
    "| Triangle |      |             |\n",
    "|          |   3  |     0-1     |\n",
    "|          |   4  |     1-2     |\n",
    "|          |   5  |     2-0     | \n",
    "|          |      |             |\n",
    "|          |      |             |\n",
    "|          |      |             |\n",
    "|          |      |             |\n",
    "|          |      |             |\n",
    "|          |      |             |\n",
    "|          |      |             |\n",
    "\n",
    "</td><td>\n",
    "    \n",
    "|    Topology   | Side | Orientation |\n",
    "|:-------------:|:----:|:-----------:|\n",
    "| Quadrilateral |      |             |\n",
    "|               |   4  |     0-1     |\n",
    "|               |   5  |     1-2     |\n",
    "|               |   6  |     2-3     |\n",
    "|               |   7  |     3-0     |\n",
    "|               |      |             |\n",
    "|               |      |             |\n",
    "|               |      |             |\n",
    "|               |      |             |\n",
    "|               |      |             |\n",
    "\n",
    "</td><td>    \n",
    "    \n",
    "|   Topology  | Side | Orientation |\n",
    "|:-----------:|:----:|:-----------:|\n",
    "| Tetrahedron |      |             |\n",
    "|             |   5  |     0-1     |\n",
    "|             |   6  |     1-2     |\n",
    "|             |   7  |     2-0     |\n",
    "|             |   8  |     0-3     |\n",
    "|             |   9  |     1-3     |\n",
    "|             |  10  |     2-3     |\n",
    "\n",
    "</td></tr></table>"
   ]
  },
  {
   "cell_type": "markdown",
   "metadata": {},
   "source": [
    "<table><tr><td>\n",
    "    \n",
    "|    Topology   |   Side   |   Orientation   |\n",
    "|:-------------:|:--------:|:---------------:|\n",
    "|  Hexahedron   |          |                 |\n",
    "|               |    8     |       0-1       |\n",
    "|               |    9     |       1-2       |\n",
    "|               |    10    |       2-3       |\n",
    "|               |    11    |       3-0       |\n",
    "|               |    12    |       0-4       |\n",
    "|               |    13    |       1-5       |\n",
    "|               |    14    |       2-6       |\n",
    "|               |    15    |       3-7       |\n",
    "|               |    16    |       4-5       |\n",
    "|               |    17    |       5-6       |\n",
    "|               |    18    |       6-7       |\n",
    "|               |    19    |       7-4       |\n",
    "\n",
    "</td><td>\n",
    "    \n",
    "|    Topology   |   Side   |   Orientation   |\n",
    "|:-------------:|:--------:|:---------------:|\n",
    "|    Pyramid    |          |                 |\n",
    "|               |    5     |       0-1       |\n",
    "|               |    6     |       1-2       |\n",
    "|               |    7     |       2-3       |\n",
    "|               |    8     |       3-0       |\n",
    "|               |    9     |       0-4       |\n",
    "|               |    10    |       1-4       |\n",
    "|               |    11    |       2-4       |\n",
    "|               |    12    |       3-4       |\n",
    "|               |          |                 |\n",
    "|               |          |                 |\n",
    "|               |          |                 |\n",
    "|               |          |                 |\n",
    "|               |          |                 |\n",
    "|               |          |                 |\n",
    "|               |          |                 |\n",
    "|               |          |                 |\n",
    "|               |          |                 |\n",
    "|               |          |                 |\n",
    "\n",
    "</td><td>    \n",
    "    \n",
    "|    Topology   |   Side   |   Orientation   |\n",
    "|:-------------:|:--------:|:---------------:|\n",
    "|     Prism     |          |                 |\n",
    "|               |    6     |       0-1       |\n",
    "|               |    7     |       1-2       |\n",
    "|               |    8     |       2-0       |\n",
    "|               |    9     |       0-3       |\n",
    "|               |    10    |       1-4       |\n",
    "|               |    11    |       2-5       |\n",
    "|               |    12    |       3-4       |\n",
    "|               |    13    |       4-5       |\n",
    "|               |    14    |       5-3       |\n",
    "|               |          |                 |\n",
    "|               |          |                 |\n",
    "|               |          |                 |\n",
    "|               |          |                 |\n",
    "|               |          |                 |\n",
    "|               |          |                 |\n",
    "|               |          |                 |\n",
    "\n",
    "</td></tr></table>"
   ]
  },
  {
   "cell_type": "code",
   "execution_count": 12,
   "metadata": {},
   "outputs": [],
   "source": [
    "# int side = 2;\n",
    "# int dimside = quad.SideDimension(side);\n",
    "# std::cout << \"The dimension of the side \" << side << \" is\" << dimside << std::endl;\n",
    "# int nsidenodes = quad.NSideNodes(side);\n",
    "# std::cout << \"The number of associated corner nodes of the side \" << side << \" is \" << nsidenodes << std::endl;"
   ]
  },
  {
   "cell_type": "markdown",
   "metadata": {},
   "source": [
    "#### c. Definition of the parametric transformation between sides \n",
    "\n",
    "Each element is partitioned by its sides. The closure of a side includes a number os sides and forms an element topology. This imples that each point on the boundary of a side belongs to a side of lower dimension.\n",
    "\n",
    "A point in the parametric domain of a side can be transformed to a point in the parametric domain of the element. The transformation is a homogeneous transformation (i.e. a linear transformation followed by a translation).\n",
    "\n",
    "These functionalities are implemented by the method *SideToSideTransform*. It is assumed that *sidefrom* belongs to *sideto*. If *sidefrom* corresponds to the volume of the element, the method will return a transformation that is a projection of the interior point to the side. An example of parameteric transformation between sides is shown in the Figure 2."
   ]
  },
  {
   "cell_type": "markdown",
   "metadata": {},
   "source": [
    "<figure class=\"image\">\n",
    "  <img src='images/SideToSideTransform.png'>\n",
    "  <center>\n",
    "  <figcaption>(Figure 2) : The transformation between sides.</figcaption>\n",
    "  </center>\n",
    "</figure>"
   ]
  },
  {
   "cell_type": "code",
   "execution_count": 5,
   "metadata": {},
   "outputs": [],
   "source": [
    "# int sidefrom = 2;\n",
    "# int sideto = 1;\n",
    "# TPZTransform<> tr = quad.SideToSideTransform(sidefrom, sideto);"
   ]
  },
  {
   "cell_type": "markdown",
   "metadata": {},
   "source": [
    "#### d. Creation of integration rules associated to each side\n",
    "\n",
    "As each side is associated with an element topology, a specific integration rule exists for each side of an element. The integration rule classes associated with each element topology are:\n",
    "\n",
    "|  **Topology** | **Dimension** | **Class name of integration rule** |\n",
    "|:-------------:|:-------------:|:----------------------------------:|\n",
    "|    Abstract   |               |            TPZIntPoints            |\n",
    "|     Point     |       0       |            TPZInt1Point            |\n",
    "|      Line     |       1       |              TPZInt1d              |\n",
    "|    Triangle   |       2       |           TPZIntTriangle           |\n",
    "| Quadrilateral |       2       |             TPZIntQuad             |\n",
    "|   Tetrahedra  |       3       |            TPZIntTetra3D           |\n",
    "|   Hexahedra   |       3       |            TPZIntCube3D            |\n",
    "|     Prism     |       3       |            TPZIntPrism3D           |\n",
    "|    Pyramid    |       3       |           TPZIntPyramid3D          |\n",
    "\n",
    "The method responsible to create the integration rule associated with a side is *CreateSideIntegrationRule*. The input of this method are the *side* and the *order* of the integration rule to be created. The output is a pointer to *TPZIntPoints* which corresponds to the created integration rule.\n"
   ]
  },
  {
   "cell_type": "code",
   "execution_count": 6,
   "metadata": {},
   "outputs": [],
   "source": [
    "# int side = 0;\n",
    "# int integr_order = 3;\n",
    "# TPZIntPoints * integr = quad.CreateSideIntegrationRule(side, integr_order)"
   ]
  },
  {
   "cell_type": "markdown",
   "metadata": {},
   "source": [
    "#### e. Definition of a transformation index associated with a side.\n",
    "\n",
    "When working with high order hierarchical shape functions the orientation of the side will influence the values of the functions associated with the side. In order to make the functions unique an orientation is associated with each side which depends on an identifier associated with each node. The transformations associated with lines, triangles and quadrilaterals are documented in [NeoPZ shape functions](https://www.sciencedirect.com/science/article/pii/S0045782509000255?via%3Dihub).\n",
    "\n",
    "The method that computes the transformation index is *int GetTransformId(TPZVec<int64_t> &id)*. The input is a vector with the ids associated with the corner nodes of a side and the output is its the transformation index."
   ]
  },
  {
   "cell_type": "code",
   "execution_count": 7,
   "metadata": {},
   "outputs": [],
   "source": [
    "# TPZVec<int64_t> id;\n",
    "# int transf_id = quad.GetTransformId(id);"
   ]
  },
  {
   "cell_type": "markdown",
   "metadata": {},
   "source": [
    "#### f. Definition of the permutation index associated with the element side.\n",
    "\n",
    "When working with H(div) conforming approximations fluxes with continuous normal components are associated with sides of dimension \"dim-1\" where dim is the dimension of the element. In NeoPZ H(div) compatible flux functions are computed by multiplying a vector field with H1 compatible shape functions. As is documented in [NeoPZ shape functions](https://www.sciencedirect.com/science/article/pii/S0045782509000255?via%3Dihub), H1 shape functions are associated with sides. In order to generate these shape functions in an order compatible between two neighbouring elements, the order is determined by the transformation associated with the side. \n",
    "The method that computes the permutation index associated with an element side is *GetSideHDivPermutation(int transformationid, TPZVec &permgather)*. It is implemented for one dimensional, quadrilateral and triangular topologies.\n",
    "\n"
   ]
  },
  {
   "cell_type": "code",
   "execution_count": 8,
   "metadata": {},
   "outputs": [],
   "source": [
    "# TPZVec<int> permgather; // output variable\n",
    "# quad.GetSideHDivPermutation(transf_id, permgather);"
   ]
  },
  {
   "cell_type": "markdown",
   "metadata": {},
   "source": [
    "#### g. Relationship between sides\n",
    "\n",
    "This method returns all sides with higher dimension which are included in the closure of a side. The method that shows the higher dimension sides is *HigherDimensionSides(int side, TPZStack &high)*. The input is an integer and the output is a stack."
   ]
  },
  {
   "cell_type": "code",
   "execution_count": 9,
   "metadata": {},
   "outputs": [],
   "source": [
    "# TPZStack<int> high;\n",
    "# quad.HigherDimensionSides(side, high);"
   ]
  },
  {
   "cell_type": "markdown",
   "metadata": {},
   "source": [
    "#### h. Projection of a point to a side (this function is actually implemented on TPZShape).\n",
    "\n",
    "When we want to project a point from the interior of the element to a rib in NeoPZ, it is used the method *ProjectPoint2dQuadToRib*. The inputs of this method are the rib index to which the point should be projected and the coordinate of the point at the interior of the element and the output is the coordinate of the point on the rib.\n",
    "An example of projection of a point to a side is shown in the Figure 3. "
   ]
  },
  {
   "cell_type": "markdown",
   "metadata": {},
   "source": [
    "<figure class=\"image\">\n",
    "  <img src='images/Projected2dToRib.png'>\n",
    "  <center>\n",
    "  <figcaption>(Figure 3) : The projection of a point to a side.</figcaption>\n",
    "  </center>\n",
    "</figure>"
   ]
  },
  {
   "cell_type": "code",
   "execution_count": 10,
   "metadata": {},
   "outputs": [],
   "source": [
    "# int rib;\n",
    "# TPZVec<REAL> in;\n",
    "# REAL out;\n",
    "# pzshape::TPZShapeQuad::ProjectPoint2dQuadToRib(rib, in, out);"
   ]
  }
 ],
 "metadata": {
  "kernelspec": {
   "display_name": "Python 3",
   "language": "python",
   "name": "python3"
  },
  "language_info": {
   "codemirror_mode": {
    "name": "ipython",
    "version": 3
   },
   "file_extension": ".py",
   "mimetype": "text/x-python",
   "name": "python",
   "nbconvert_exporter": "python",
   "pygments_lexer": "ipython3",
   "version": "3.7.4"
  }
 },
 "nbformat": 4,
 "nbformat_minor": 4
}

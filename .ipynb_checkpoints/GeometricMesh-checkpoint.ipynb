{
 "cells": [
  {
   "cell_type": "code",
   "execution_count": 3,
   "metadata": {},
   "outputs": [
    {
     "data": {
      "text/html": [
       "\n",
       "        <script>\n",
       "            function f_name() {\n",
       "                $('div.cell.code_cell.rendered.selected').find('div.input').toggle();\n",
       "            }\n",
       "            \n",
       "            \n",
       "        </script>\n",
       "        <form action=\"javascript:f_name()\"><input type=\"submit\" id=\"toggleButton\" value=\"Show/Hide Code\"></form>\n",
       "    "
      ],
      "text/plain": [
       "<IPython.core.display.HTML object>"
      ]
     },
     "execution_count": 3,
     "metadata": {},
     "output_type": "execute_result"
    }
   ],
   "source": [
    "from IPython.display import HTML\n",
    "\n",
    "def hide_toggle(for_next=False):\n",
    "    target_cell = \"\"\"$('div.cell.code_cell.rendered.selected')\"\"\"  # target cell to control with toggle\n",
    "    js_hide_current = ''  # bit of JS to permanently hide code in current cell (only when toggling next cell)\n",
    "    html = \"\"\"\n",
    "        <script>\n",
    "            function f_name() {{\n",
    "                {cell_selector}.find('div.input').toggle();\n",
    "            }}\n",
    "            {js_hide_current}\n",
    "            \n",
    "        </script>\n",
    "        <form action=\"javascript:f_name()\"><input type=\"submit\" id=\"toggleButton\" value=\"Show/Hide Code\"></form>\n",
    "    \"\"\".format(\n",
    "        cell_selector=target_cell,\n",
    "        js_hide_current=js_hide_current\n",
    "    )\n",
    "\n",
    "    return HTML(html)\n",
    "\n",
    "hide_toggle()"
   ]
  },
  {
   "cell_type": "markdown",
   "metadata": {},
   "source": [
    "[Return to NeoPZ-Overview](NeoPZ-Overview.ipynb)\n",
    "\n",
    "## 4. The geometric mesh\n",
    "\n",
    "A geometric mesh TPZGeoMesh is class that stores a vector of geometric nodes (*TPZGeoNode*) and geometric elements (TPZGeoEl) (see [Geometry Documentation](Geometry.ipynb)).\n",
    "\n",
    "Besides implementing access functions for nodes and elements, the *TPZGeoMesh* class implements a method to compute the neighbouring information for all elements\n",
    "\n",
    "\n",
    "* *BuildConnectivity*: Computes the neighbouring information of the geometric elements.\n",
    "\n",
    "The mesh also includes a method that finds an element that contains a given coordinate.\n",
    "\n",
    "* *FindElement*: Returns the element that contains the given point x and it respective point in parametric domain qsi.\n",
    "(It should be noted that FindElement is not 100%. It can break for quarterpoint geometric maps)."
   ]
  },
  {
   "cell_type": "markdown",
   "metadata": {},
   "source": [
    "### 4.1. The geometric node\n",
    "\n",
    "The geometric node stores the 3D coordinates of a node and a unique ID associated with the node. The ID is essential because it will determine the orientation associated with shape functions.\n",
    "\n",
    "The class *TPZCheckGeom* includes a method to verify if the ID’s of the geometric nodes are unique."
   ]
  },
  {
   "cell_type": "markdown",
   "metadata": {},
   "source": [
    "### 4.2 The geometric element\n",
    "\n",
    "A geometric element represents an area in the geometric mesh. It has several attributes within the NeoPZ library:\n",
    "\n",
    "* Compute the map between the master element and deformed configuration\n",
    "* Associate a material id with the area\n",
    "* Keep track of neighbour information\n",
    "* Keep track of son elements and father element\n",
    "* Keep a pointer to a computational element\n",
    "* Keep a counter of the number of interface elements pointing to this geometry (to be deleted)\n",
    "\n",
    "(More details in [Geometry Documentation](Geometry.ipynb))"
   ]
  },
  {
   "cell_type": "markdown",
   "metadata": {},
   "source": [
    "The geometric element class is abstract. Many functionalities are implemented the derived class *TPZGeoElRefless*\n",
    "The methods of the geometric element can be classified as:\n",
    "\n",
    "* Access and initialization methods for the geometric nodes:\n",
    "\n",
    "\n",
    "    1. void GetNodeIndices( TPZVec<int64_t> &nodeindices );\n",
    "    \n",
    "    2. void GetNodeIndices( std::set<int64_t> &nodeindices );\n",
    "    \n",
    "    3. virtual int NNodes() const = 0;\n",
    "        Returns the number of nodes of the element\n",
    "        \n",
    "    4. virtual int NCornerNodes() const = 0;  \n",
    "        Returns the number of corner nodes of the element  \n",
    "    \n",
    "    5. TPZGeoNode* NodePtr(int i) const;\n",
    "        Returns a pointer to the ith node of the element \n",
    "    \n",
    "    6. TPZGeoNode& Node(int i) const;\n",
    "    \n",
    "    7. virtual int64_t NodeIndex(int i) const = 0;\n",
    "        Returns the ith node of the element  \n",
    "\n",
    "* Provide information of the topology associated with the element:\n",
    "\n",
    "\n",
    "    1. virtual int NSides() const = 0;\n",
    "        Returns the number of sides;\n",
    "    \n",
    "    2. virtual int NSideNodes(int side) const = 0;\n",
    "        Returns the number of nodes for a particular side\n",
    "    \n",
    "    3. virtual TPZGeoNode * SideNodePtr(int side,int nodenum) const;\n",
    "        Returns the pointer to the nodenum node of side\n",
    "    \n",
    "    4. virtual void MidSideNodeIndex(int side,int64_t &index) const = 0;\n",
    "        Returns the midside node index along a side of the element\n",
    "    \n",
    "    5. virtual void MidSideNodeIndices(int side,TPZVec<int64_t> &indices) const;\n",
    "        Returns the midside node indices along a side of the element. THIS METHOD SHOULD SUBSTITUTE MidSideNodeIndex in the future as it is ready for Refinement patterns, whereas the former is not\n",
    "    \n",
    "    6. virtual int64_t SideNodeIndex(int side,int nodenum) const = 0;\n",
    "        Returns the index of the nodenum node of side.\n",
    "        \n",
    "    7. virtual int SideNodeLocIndex(int side, int nodenum) const = 0;\n",
    "        Returns the local index of a node on a side\n",
    "    \n",
    "    8. int WhichSide(TPZVec<int64_t> &SideNodeIds);\n",
    "        Returns the side number which is connected to the SideNodes returns -1 if no side is found\n",
    "    \n",
    "    9. virtual void SetNodeIndex(int i,int64_t nodeindex) = 0;\n",
    "        Initializes the node i of the element\n",
    "\n",
    "    10. virtual int SideDimension(int side) const = 0;\n",
    "        Return the dimension of side\n",
    "\n",
    "    11. virtual int Dimension() const =0;\n",
    "        Returns the dimension of the element\n",
    "\n",
    "    12. virtual void AllHigherDimensionSides(int side,int targetdimension,TPZStack<TPZGeoElSide> &elsides) = 0;\n",
    "\n",
    "    13. virtual void LowerDimensionSides(int side,TPZStack<int> &smallsides) const = 0;\n",
    "\n",
    "    14. virtual TPZTransform<REAL> SideToSideTransform(int sidefrom,int sideto) = 0;\n",
    "        Compute the transformation between the master element space of one side of an element to the master element space of a higher dimension side\n",
    "\n",
    "    15. virtual void ProjectPoint(int sidefrom, TPZVec<REAL> &ptin, int sideto, TPZVec<REAL> &ptout)\n",
    "        Project the point from one side to another. The dimension of the\n",
    "points needs to be configured properly\n",
    "\n",
    "    16. TPZTransform<REAL> Projection(int side)\n",
    "        Compute the projection of the point within the interior of the\n",
    "element to the side of the element\n",
    "\n",
    "    17. int WhichSide(TPZVec<REAL> &pt)\n",
    "        Returns the side number which is connected to the point pt\n",
    "\n",
    "    18. virtual void CenterPoint(int side, TPZVec<REAL> &masscent) const = 0;\n",
    "        It returns the coordinates from the center of the side of the element in the element coordinate space\n",
    "\n",
    "    19. virtual REAL RefElVolume() = 0;\n",
    "        Volume of the master element\n",
    "\n",
    "    19. virtual bool IsInParametricDomain(const TPZVec<REAL> &pt, REAL tol = 1.e-2) = 0;\n",
    "        Verifies if the parametric point pt is in the element parametric\n",
    "domain\n",
    "\n",
    "    20. virtual int ProjectInParametricDomain(TPZVec<REAL> &qsi, TPZVec<REAL> &qsiInDomain) = 0;\n",
    "        Ortogonal projection from given qsi to a qsiInDomain (all in the element parametric domain). Returns the side where the point was projected. Note: If ortogonal projection to any sides of element results in a qsi outside domain, this method will returns the nearest node side.Observe that if the point is already in the parametric domain, the method will return \\f$ NSides() - 1 \\f$\n",
    "\n",
    "    21. virtual int ProjectBissectionInParametricDomain(TPZVec<REAL> &qsi, TPZVec<REAL> &qsiInDomain) = 0;\n",
    "        Projection from given qsi to a qsiInDomain (in the element bound- ary) using bissection method from given qsi to element center. Returns the side where the point was projected. Note: Observe that if the point is already in the parametric domain, the method will return \\f$ NSides() - 1 \\f$ */"
   ]
  },
  {
   "cell_type": "markdown",
   "metadata": {},
   "source": [
    "### 4.3. Creating a refinement pattern\n",
    "\n",
    "The following tutorial explains how to create refinement patterns using NeoPZ.\n",
    "\n",
    "1. Create a TPZGeoMesh with the refinement pattern (one element father and its children).\n",
    "\n",
    "    NOTE: Don't forget to set the Father, for example:\n",
    "            gmesh->Element(1)->SetFather(gmesh->Element(0));\n",
    "            gmesh->Element(2)->SetFather(gmesh->Element(0));\n",
    "\n",
    "2. Create a TPZGeoMesh without the refinement\n",
    "\n",
    "3. Set the refinement with the procedure:\n",
    "\n",
    "            TPZRefPattern *ref = new TPZRefPattern(*gmeshWITHpattern);\n",
    "            ref->SetName(\"Karol\");\n",
    "            TPZAutoPointer<TPZRefPattern> autoref(ref);\n",
    "            gRefDBase.InsertRefPattern(autoref);\n",
    "            autoref->InsertPermuted();\n",
    "            auto karol = gRefDBase.FindRefPattern(\"Karol\");\n",
    "            \n",
    "            TPZVec<TPZGeoEl *> gelvec;\n",
    "            gmeshWITHOUTpattern->Element(0)->SetRefPattern(karol);\n",
    "            gmeshWITHOUTpattern->Element(0)->Divide(gelvec);\n",
    "    \n",
    "    NOTE: Since the refinement pattern is compatible with the subelement, you can divide how many times you want."
   ]
  },
  {
   "cell_type": "markdown",
   "metadata": {},
   "source": [
    "#### 4.3.1 Example with quadrilateral elements"
   ]
  },
  {
   "cell_type": "code",
   "execution_count": 9,
   "metadata": {},
   "outputs": [
    {
     "data": {
      "text/html": [
       "\n",
       "        <script>\n",
       "            function f_name() {\n",
       "                $('div.cell.code_cell.rendered.selected').find('div.input').toggle();\n",
       "            }\n",
       "            \n",
       "            \n",
       "        </script>\n",
       "        <form action=\"javascript:f_name()\"><input type=\"submit\" id=\"toggleButton\" value=\"Show/Hide Code\"></form>\n",
       "    "
      ],
      "text/plain": [
       "<IPython.core.display.HTML object>"
      ]
     },
     "execution_count": 9,
     "metadata": {},
     "output_type": "execute_result"
    }
   ],
   "source": [
    "import pyvista as pv\n",
    "\n",
    "def plotref_example1():\n",
    "    mesh1 = pv.UnstructuredGrid('RefPatterns/QuadExamples/QuadRef1.vtk')\n",
    "    edges1 = mesh1.extract_edges()\n",
    "    p1 = pv.Plotter()\n",
    "    p1.add_mesh(mesh1)\n",
    "    p1.add_mesh(edges1, color=\"red\", line_width=5)\n",
    "    p1.show()\n",
    "\n",
    "def plotref_example2():\n",
    "    mesh2 = pv.UnstructuredGrid('RefPatterns/QuadExamples/QuadRef2.vtk')\n",
    "    edges2 = mesh2.extract_edges()\n",
    "    p2 = pv.Plotter()\n",
    "    p2.add_mesh(mesh2)\n",
    "    p2.add_mesh(edges2, color=\"red\", line_width=5)\n",
    "    p2.show()\n",
    "    \n",
    "def plotref_example3():\n",
    "    mesh3 = pv.UnstructuredGrid('RefPatterns/QuadExamples/QuadRef3.vtk')\n",
    "    edges3 = mesh3.extract_edges()\n",
    "    p3 = pv.Plotter()\n",
    "    p3.add_mesh(mesh3)\n",
    "    p3.add_mesh(edges3, color=\"red\", line_width=5)\n",
    "    p3.show()\n",
    "\n",
    "hide_toggle()"
   ]
  },
  {
   "cell_type": "code",
   "execution_count": 11,
   "metadata": {},
   "outputs": [
    {
     "data": {
      "image/png": "[encoded data removed]",
      "text/plain": [
       "<PIL.Image.Image image mode=RGB size=1024x768 at 0x119C1ED10>"
      ]
     },
     "metadata": {},
     "output_type": "display_data"
    }
   ],
   "source": [
    "# First Refinement Step\n",
    "plotref_example1()"
   ]
  },
  {
   "cell_type": "code",
   "execution_count": 12,
   "metadata": {},
   "outputs": [
    {
     "data": {
      "image/png": "[encoded data removed]",
      "text/plain": [
       "<PIL.Image.Image image mode=RGB size=1024x768 at 0x119C1EE50>"
      ]
     },
     "metadata": {},
     "output_type": "display_data"
    }
   ],
   "source": [
    "# Second Refinement Step\n",
    "plotref_example2()"
   ]
  },
  {
   "cell_type": "code",
   "execution_count": 13,
   "metadata": {},
   "outputs": [
    {
     "data": {
      "image/png": "[encoded data removed]",
      "text/plain": [
       "<PIL.Image.Image image mode=RGB size=1024x768 at 0x119C15DD0>"
      ]
     },
     "metadata": {},
     "output_type": "display_data"
    }
   ],
   "source": [
    "# Third Refinement Step\n",
    "plotref_example3()"
   ]
  },
  {
   "cell_type": "code",
   "execution_count": null,
   "metadata": {},
   "outputs": [],
   "source": []
  }
 ],
 "metadata": {
  "kernelspec": {
   "display_name": "Python 3",
   "language": "python",
   "name": "python3"
  },
  "language_info": {
   "codemirror_mode": {
    "name": "ipython",
    "version": 3
   },
   "file_extension": ".py",
   "mimetype": "text/x-python",
   "name": "python",
   "nbconvert_exporter": "python",
   "pygments_lexer": "ipython3",
   "version": "3.7.4"
  }
 },
 "nbformat": 4,
 "nbformat_minor": 2
}

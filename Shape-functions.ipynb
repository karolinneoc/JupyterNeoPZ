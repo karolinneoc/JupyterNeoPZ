{
 "cells": [
  {
   "cell_type": "code",
   "execution_count": 3,
   "metadata": {},
   "outputs": [
    {
     "name": "stdout",
     "output_type": "stream",
     "text": [
      "Help on package pyvista:\n",
      "\n",
      "NAME\n",
      "    pyvista\n",
      "\n",
      "PACKAGE CONTENTS\n",
      "    _version\n",
      "    core (package)\n",
      "    examples (package)\n",
      "    plotting (package)\n",
      "    utilities (package)\n",
      "\n",
      "SUBMODULES\n",
      "    colors\n",
      "    common\n",
      "    composite\n",
      "    errors\n",
      "    export_vtkjs\n",
      "    features\n",
      "    fileio\n",
      "    filters\n",
      "    geometric_objects\n",
      "    grid\n",
      "    helpers\n",
      "    ipy_tools\n",
      "    mapper\n",
      "    objects\n",
      "    parametric_objects\n",
      "    picking\n",
      "    pointset\n",
      "    qt_plotting\n",
      "    renderer\n",
      "    sphinx_gallery\n",
      "    theme\n",
      "    tools\n",
      "    widgets\n",
      "\n",
      "DATA\n",
      "    CELL_DATA_FIELD = 1\n",
      "    DEFAULT_THEME = {'auto_close': True, 'axes': {'box': False, 'x_color':...\n",
      "    EXAMPLES_PATH = '/Users/karolinne/Library/Application Support/pyvista/...\n",
      "    FIELD_DATA_FIELD = 2\n",
      "    FIGURE_PATH = None\n",
      "    FLOAT_FORMAT = '{:.3e}'\n",
      "    FONT_KEYS = {'arial': 0, 'courier': 1, 'times': 2}\n",
      "    MAX_N_COLOR_BARS = 10\n",
      "    NORMALS = {'-x': [-1, 0, 0], '-y': [0, -1, 0], '-z': [0, 0, -1], 'x': ...\n",
      "    OFF_SCREEN = False\n",
      "    POINT_DATA_FIELD = 0\n",
      "    PV_BACKGROUND = [0.3215686274509804, 0.3411764705882353, 0.43137254901...\n",
      "    READERS = {'.bmp': <class 'vtkIOImagePython.vtkBMPReader'>, '.byu': <c...\n",
      "    REPR_VOLUME_MAX_CELLS = 1000000.0\n",
      "    ROW_DATA_FIELD = 6\n",
      "    USER_DATA_PATH = '/Users/karolinne/Library/Application Support/pyvista...\n",
      "    VTK_ID_TYPE_SIZE = 8\n",
      "    VTK_MAJOR = 8\n",
      "    VTK_MINOR = 1\n",
      "    color_char_to_word = {'b': 'blue', 'c': 'cyan', 'g': 'green', 'k': 'bl...\n",
      "    hexcolors = {'aliceblue': '#F0F8FF', 'antiquewhite': '#FAEBD7', 'aqua'...\n",
      "    pi = 3.141592653589793\n",
      "    rcParams = {'auto_close': True, 'axes': {'box': False, 'x_color': 'tom...\n",
      "\n",
      "VERSION\n",
      "    0.22.2\n",
      "\n",
      "FILE\n",
      "    /usr/local/lib/python3.7/site-packages/pyvista/__init__.py\n",
      "\n",
      "\n"
     ]
    }
   ],
   "source": [
    "from IPython.display import HTML\n",
    "\n",
    "def hide_toggle():\n",
    "    html = \"\"\"\n",
    "        <script>\n",
    "            function f_name() {\n",
    "                $('div.cell.code_cell.rendered.selected').find('div.input').toggle();\n",
    "            }\n",
    "        </script>\n",
    "        <form action=\"javascript:f_name()\"><input type=\"submit\" id=\"toggleButton\" value=\"Show/Hide Code\"></form>\n",
    "    \"\"\"\n",
    "    return HTML(html)\n",
    "\n",
    "import pyvista as pv\n",
    "\n",
    "def plotshapequad(number):\n",
    "    name_of_file = 'Shapes VTK/quad/ShapeFunctions.scal_vec.'+str(number)+'.vtk'\n",
    "    mesh = pv.UnstructuredGrid(name_of_file).warp_by_scalar()\n",
    "\n",
    "    # First a default plot with jet colormap\n",
    "    p = pv.Plotter()\n",
    "    # Add the data, use active scalar for coloring, and show the scalar bar\n",
    "    p.add_mesh(mesh)\n",
    "    # Display the scene\n",
    "    return p.show()\n",
    "\n",
    "def plotshapetriangle(number):\n",
    "    name_of_file = 'Shapes VTK/triang/ShapeFunctions.scal_vec.'+str(number)+'.vtk'\n",
    "    mesh = pv.UnstructuredGrid(name_of_file).warp_by_scalar()\n",
    "\n",
    "    # First a default plot with jet colormap\n",
    "    p = pv.Plotter()\n",
    "    # Add the data, use active scalar for coloring, and show the scalar bar\n",
    "    p.add_mesh(mesh)\n",
    "    # Display the scene\n",
    "    return p.show()\n",
    "\n",
    "hide_toggle()\n",
    "\n",
    "help(pv)\n",
    "\n"
   ]
  },
  {
   "cell_type": "markdown",
   "metadata": {},
   "source": [
    "[Return to NeoPZ-Overview](NeoPZ-Overview.ipynb)\n",
    "\n",
    "## 3. Shape Function <a id=\"shape\"></a>\n",
    "\n",
    "The origin of the NeoPZ library was an object oriented framework for hp adaptive finite element simulations using continuous H1 approximation spaces.\n",
    "\n",
    "The shape template classes define shape functions of arbritrary order for all element topologies.\n",
    "\n",
    "Shape functions are associated with sides and the polynomial order of the shape functions and it can be choosen arbitrarely with each side.\n",
    "\n",
    "High order shape functions are computed as the product of a bubble function with an orthogonal polynomial."
   ]
  },
  {
   "cell_type": "markdown",
   "metadata": {},
   "source": [
    "### 3.1. Choice of family of orthogonal polynomials\n",
    "\n",
    "The template class *TPZShapeLinear* has a static function pointer *fOrthogonal* that defines the family of orthogonal polynoms that will be used when computing shape functions.\n",
    "\n",
    "By default, *fOrthogonal* points to the static function *Chebyshev* which implements the orthogonal Chebyshev polynomials.\n",
    "\n",
    "Other orthogonal polynomials are\n",
    "\n",
    " \n",
    "* Legendre\n",
    "* Hermite\n",
    "* Jacobi\n",
    "* Monomial polynomials $x^n$"
   ]
  },
  {
   "cell_type": "markdown",
   "metadata": {},
   "source": [
    "### 3.2. Computing shape functions in the NeoPZ environment\n",
    "\n",
    "Given a point $\\xi$ at the interior of an element, the shape functions associated\n",
    "with a side $s$ of the element topology are computed as:\n",
    "\n",
    "\n",
    " \n",
    "1. Project the point $\\xi$ to the point $\\xi_s$ associated with the side \n",
    "\n",
    "$\\xi_{s}=T^{s}(\\xi)$;\n",
    "\n",
    "2. Transform the point according to the transformation id of the side (the transformation id is determined by the $IDs$ of the nodes) \n",
    "\n",
    "$\\xi_{st}=T^{st}=T^{st}(T^{st}(\\xi))$;\n",
    "\n",
    "3. Compute the internal shape functions for the point \n",
    "\n",
    "$\\xi_{st}:\\phi_{s}(\\xi_{st}),  \\nabla_{st} \\phi_{st}(\\xi_{st})$;\n",
    "\n",
    "4. Multiply the shape functions with the bubble function associated with the side:\n",
    "\n",
    "$\\phi_{bs}(\\xi),  \\nabla \\phi_{bs}(\\xi)$\n",
    "\n",
    "$\\phi_{s}(\\xi),  \\phi_{s}(\\xi_{st})\\phi_{bs}(\\xi)$\n",
    "\n",
    "$\\nabla_{\\xi}\\phi_{s}(\\xi)=\\phi_{bs}(\\xi)\\cdot (\\nabla T^{s})^{T}(\\nabla T^{s})^{T}\\nabla_{st} \\phi(\\xi_{st})+\\phi_{s}(\\xi_{st})\\cdot\\nabla \\phi_{bs}(\\xi)$\n",
    "\n",
    "\n",
    "The transformations $T^{st}$ and $T^s$ are homogeneous and have therefore constant\n",
    "Jacobian. The functions $\\phi_{bs}(\\xi)$ are bubble functions associated with each side\n",
    "and are computed in the method ShapeGenerating. The projection $T^s$ is unique\n",
    "for each side. The transformation $T^s$ is a function of the ids of the geometric\n",
    "nodes associated with the side."
   ]
  },
  {
   "cell_type": "markdown",
   "metadata": {},
   "source": [
    "#### 3.2.1. Shape function count\n",
    "\n",
    "An essential part of computing the shape functions is to know how many shape functions are associated with each side. Two methods return the number of shape functions\n",
    "* static int *NConnectShapeF(int side, int order)*:\n",
    "Computes the number of shape functions associated with a side\n",
    "* static int *NShapeF(TPZVec<int> \\& order)*:\n",
    "    Sum of shape functions for a given order associated with each side. The order vector has the dimension *NSides-NCornerNodes*"
   ]
  },
  {
   "cell_type": "markdown",
   "metadata": {},
   "source": [
    "#### 3.2.2. Corner shape functions\n",
    "\n",
    "The shape functions associated with corner nodes are the traditional linear or bilinear shape functions. \n",
    "(For the pyramid topology, the linear shape functions are rational functions.)"
   ]
  },
  {
   "cell_type": "markdown",
   "metadata": {},
   "source": [
    "#### 3.2.3. ShapeGenerating\n",
    "\n",
    "A bubble function associated with a side is computed as the multiplication of linear combinations of the corner shape functions.\n",
    "\n",
    "A bubble function associated with a side is nonzero over the side and all higher dimensional sides whose closure contains the side.\n",
    "\n",
    "A bubble function associated with a side is zero on all lower dimensional sides include in the closure of the side.\n",
    "\n",
    "The bubble functions are constructed to that they have minimal polynomial order and fullfill the above requirements. \n",
    "\n",
    "The method ShapeGenerating which is defined in all shape templates takes as entry the values of the shape functions and derivatives at the corner nodes and returns the values of the bubble functions and their derivatives."
   ]
  },
  {
   "cell_type": "markdown",
   "metadata": {},
   "source": [
    "#### 3.2.4. ShapeInternal\n",
    "ShapeInternal computes the internal functions associated with the topology of a side.\n",
    "\n",
    "static void ShapeInternal(TPZVec<REAL> &x, int order, TPZFMatrix<REAL> &phi, TPZFMatrix<REAL> &dphi, int quad_transformation_index);\n",
    "    \n",
    "Its arguments are the coordinate of the projected point in the master element of the side, the transformation id associated with the side and its output are the values of the shape functions $\\phi(\\xi_{st})$ and gradient  $(\\nabla T^{st})^T \\nabla_{st} \\phi_{st}(\\xi_{st})$"
   ]
  },
  {
   "cell_type": "markdown",
   "metadata": {},
   "source": [
    "### 3.3 Examples"
   ]
  },
  {
   "cell_type": "markdown",
   "metadata": {},
   "source": [
    "Pyvista is undergoing some development. The iterative plots are not able to show scalar bars, axes grids, etc. For more info see this [issue](https://github.com/pyvista/pyvista-support/issues/64#issuecomment-535564880)"
   ]
  },
  {
   "cell_type": "markdown",
   "metadata": {},
   "source": [
    "#### 3.3.1. Quadrilateral element\n",
    "\n",
    "In the following cell please enter the number of function you want to plot.\n",
    "\n",
    "0 to 3 - Corner nodes shape functions.\n",
    "\n",
    "4 to 11 - Edge shape functions (quadratic and cubic).\n",
    "\n",
    "12 to 15 - Internal shape functions."
   ]
  },
  {
   "cell_type": "code",
   "execution_count": null,
   "metadata": {},
   "outputs": [],
   "source": [
    "number = 3; \n",
    "\n",
    "plotshapequad(number)"
   ]
  },
  {
   "cell_type": "markdown",
   "metadata": {},
   "source": [
    "#### 3.3.2. Triangle element\n",
    "\n",
    "In the following cell please enter the number of function you want to plot.\n",
    "\n",
    "0 to 2 - Corner nodes shape functions.\n",
    "\n",
    "4 to 8 - Edge shape functions (quadratic and cubic).\n",
    "\n",
    "9 - Internal shape functions."
   ]
  },
  {
   "cell_type": "code",
   "execution_count": null,
   "metadata": {},
   "outputs": [],
   "source": [
    "number = 9; \n",
    "\n",
    "plotshapetriangle(number)"
   ]
  }
 ],
 "metadata": {
  "kernelspec": {
   "display_name": "Python 3",
   "language": "python",
   "name": "python3"
  },
  "language_info": {
   "codemirror_mode": {
    "name": "ipython",
    "version": 3
   },
   "file_extension": ".py",
   "mimetype": "text/x-python",
   "name": "python",
   "nbconvert_exporter": "python",
   "pygments_lexer": "ipython3",
   "version": "3.7.4"
  },
  "tags": [
   "hide_input"
  ]
 },
 "nbformat": 4,
 "nbformat_minor": 2
}

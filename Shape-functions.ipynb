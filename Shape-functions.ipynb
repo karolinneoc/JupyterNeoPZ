{
 "cells": [
  {
   "cell_type": "markdown",
   "metadata": {},
   "source": [
    "## 3. Shape Function <a id=\"shape\"></a>\n",
    "\n",
    "The origin of the NeoPZ library was an object oriented framework for hp adaptive finite element simulations using continuous H1 approximation spaces.\n",
    "\n",
    "The shape template classes define shape functions of arbritrary order for all element topologies.\n",
    "\n",
    "Shape functions are associated with sides and the polynomial order of the shape functions and it can be choosen arbitrarely with each side.\n",
    "\n",
    "High order shape functions are computed as the product of a bubble function with an orthogonal polynomial."
   ]
  },
  {
   "cell_type": "markdown",
   "metadata": {},
   "source": [
    "### 3.1. Choice of family of orthogonal polynomials\n",
    "\n",
    "The template class *TPZShapeLinear* has a static function pointer *fOrthogonal* that defines the family of orthogonal polynoms that will be used when computing shape functions.\n",
    "\n",
    "By default, *fOrthogonal* points to the static function *Chebyshev* which implements the orthogonal Chebyshev polynomials.\n",
    "\n",
    "Other orthogonal polynomials are\n",
    "\n",
    " \n",
    "* Legendre\n",
    "* Hermite\n",
    "* Jacobi\n",
    "* Monomial polynomials $x^n$"
   ]
  },
  {
   "cell_type": "markdown",
   "metadata": {},
   "source": [
    "### 3.2. Computing shape functions in the NeoPZ environment\n",
    "\n",
    "Given a point $\\xi$ at the interior of an element, the shape functions associated\n",
    "with a side $s$ of the element topology are computed as:\n",
    "\n",
    "\n",
    " \n",
    "1. Project the point $\\xi$ to the point $\\xi_s$ associated with the side \n",
    "\n",
    "$\\xi_{s}=T^{s}(\\xi)$;\n",
    "\n",
    "2. Transform the point according to the transformation id of the side (the transformation id is determined by the $IDs$ of the nodes) \n",
    "\n",
    "$\\xi_{st}=T^{st}=T^{st}(T^{st}(\\xi))$;\n",
    "\n",
    "3. Compute the internal shape functions for the point \n",
    "\n",
    "$\\xi_{st}:\\phi_{s}(\\xi_{st}),  \\nabla_{st} \\phi_{st}(\\xi_{st})$;\n",
    "\n",
    "4. Multiply the shape functions with the bubble function associated with the side:\n",
    "\n",
    "$\\phi_{bs}(\\xi),  \\nabla \\phi_{bs}(\\xi)$\n",
    "\n",
    "$\\phi_{s}(\\xi),  \\phi_{s}(\\xi_{st})\\phi_{bs}(\\xi)$\n",
    "\n",
    "$\\nabla_{\\xi}\\phi_{s}(\\xi)=\\phi_{bs}(\\xi)\\cdot (\\nabla T^{s})^{T}(\\nabla T^{s})^{T}\\nabla_{st} \\phi(\\xi_{st})+\\phi_{s}(\\xi_{st})\\cdot\\nabla \\phi_{bs}(\\xi)$\n",
    "\n",
    "\n",
    "The transformations $T^{st}$ and $T^s$ are homogeneous and have therefore constant\n",
    "Jacobian. The functions $\\phi_{bs}(\\xi)$ are bubble functions associated with each side\n",
    "and are computed in the method ShapeGenerating. The projection $T^s$ is unique\n",
    "for each side. The transformation $T^s$ is a function of the ids of the geometric\n",
    "nodes associated with the side."
   ]
  },
  {
   "cell_type": "markdown",
   "metadata": {},
   "source": [
    "#### 3.2.1. Shape function count\n",
    "\n",
    "An essential part of computing the shape functions is to know how many shape functions are associated with each side. Two methods return the number of shape functions\n",
    "* static int *NConnectShapeF(int side, int order)*:\n",
    "Computes the number of shape functions associated with a side\n",
    "* static int *NShapeF(TPZVec<int> \\& order)*:\n",
    "    Sum of shape functions for a given order associated with each side. The order vector has the dimension *NSides-NCornerNodes*"
   ]
  },
  {
   "cell_type": "markdown",
   "metadata": {},
   "source": [
    "#### 3.2.2. Corner shape functions\n",
    "\n",
    "The shape functions associated with corner nodes are the traditional linear or bilinear shape functions. \n",
    "(For the pyramid topology, the linear shape functions are rational functions.)"
   ]
  },
  {
   "cell_type": "markdown",
   "metadata": {},
   "source": [
    "#### 3.2.3. ShapeGenerating\n",
    "\n",
    "A bubble function associated with a side is computed as the multiplication of linear combinations of the corner shape functions.\n",
    "\n",
    "A bubble function associated with a side is nonzero over the side and all higher dimensional sides whose closure contains the side.\n",
    "\n",
    "A bubble function associated with a side is zero on all lower dimensional sides include in the closure of the side.\n",
    "\n",
    "The bubble functions are constructed to that they have minimal polynomial order and fullfill the above requirements. \n",
    "\n",
    "The method ShapeGenerating which is defined in all shape templates takes as entry the values of the shape functions and derivatives at the corner nodes and returns the values of the bubble functions and their derivatives."
   ]
  },
  {
   "cell_type": "markdown",
   "metadata": {},
   "source": [
    "#### 3.2.4. ShapeInternal\n",
    "ShapeInternal computes the internal functions associated with the topology of a side.\n",
    "\n",
    "static void ShapeInternal(TPZVec<REAL> &x, int order, TPZFMatrix<REAL> &phi, TPZFMatrix<REAL> &dphi, int quad_transformation_index);\n",
    "    \n",
    "Its arguments are the coordinate of the projected point in the master element of the side, the transformation id associated with the side and its output are the values of the shape functions $\\phi(\\xi_{st})$ and gradient  $(\\nabla T^{st})^T \\nabla_{st} \\phi_{st}(\\xi_{st})$"
   ]
  }
 ],
 "metadata": {
  "kernelspec": {
   "display_name": "Python 3",
   "language": "python",
   "name": "python3"
  },
  "language_info": {
   "codemirror_mode": {
    "name": "ipython",
    "version": 3
   },
   "file_extension": ".py",
   "mimetype": "text/x-python",
   "name": "python",
   "nbconvert_exporter": "python",
   "pygments_lexer": "ipython3",
   "version": "3.6.8"
  }
 },
 "nbformat": 4,
 "nbformat_minor": 2
}
